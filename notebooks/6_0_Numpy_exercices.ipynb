{
 "cells": [
  {
   "cell_type": "markdown",
   "metadata": {},
   "source": [
    "# Numpy exercices"
   ]
  },
  {
   "cell_type": "code",
   "execution_count": 1,
   "metadata": {
    "collapsed": true
   },
   "outputs": [],
   "source": [
    "import numpy as np"
   ]
  },
  {
   "cell_type": "markdown",
   "metadata": {},
   "source": [
    "## Working with arrays"
   ]
  },
  {
   "cell_type": "markdown",
   "metadata": {},
   "source": [
    "Create the following array (without typing the elements!):\n",
    "\n",
    "     array([[0, 1, 2, 3, 4],\n",
    "            [5, 6, 7, 8, 9]])"
   ]
  },
  {
   "cell_type": "code",
   "execution_count": null,
   "metadata": {
    "collapsed": false
   },
   "outputs": [],
   "source": []
  },
  {
   "cell_type": "markdown",
   "metadata": {},
   "source": [
    "### Extending arrays\n",
    "Because arrays do no have the append method  `np.concatenate`, `np.vstack` and `np.hstack` functions are very useful. \n",
    "\n",
    "1. Create: `array([[0, 1, 2], [3, 4, 5], [6, 7, 8]])`\n",
    "2. add the raw `[10, 20, 30]`\n",
    "3. add `[100, 200, 300, 400]` as a column to the new `a` in 2."
   ]
  },
  {
   "cell_type": "code",
   "execution_count": 3,
   "metadata": {
    "collapsed": false
   },
   "outputs": [],
   "source": []
  },
  {
   "cell_type": "markdown",
   "metadata": {},
   "source": [
    "### Saving and retrieving arrays\n",
    "\n",
    "Let's create a couple of large arrays:\n",
    "\n",
    "    a=random.random([1000, 1000])\n",
    "    b=arange([1000])\n",
    "    \n",
    "Save them to disk with save with savez and with `savetxt`. Delete a and b (`del a,b`) and recover them from disk. Check the size of the saved text file. Now append a `.gz` to the filename when saving with savetxt and see what happens. How do you load this file?"
   ]
  },
  {
   "cell_type": "code",
   "execution_count": null,
   "metadata": {
    "collapsed": true
   },
   "outputs": [],
   "source": []
  },
  {
   "cell_type": "markdown",
   "metadata": {},
   "source": [
    "### Removing negative numbers with *Fancy Indexing*\n",
    "We have an array that has small negative numbers and we want to remove them, converting them to zero. First, we generate a random array."
   ]
  },
  {
   "cell_type": "code",
   "execution_count": null,
   "metadata": {
    "collapsed": true
   },
   "outputs": [],
   "source": [
    "np.random.seed(3)\n",
    "a = np.random.random((4,3))-.2"
   ]
  },
  {
   "cell_type": "code",
   "execution_count": null,
   "metadata": {
    "collapsed": false
   },
   "outputs": [],
   "source": [
    "a"
   ]
  },
  {
   "cell_type": "markdown",
   "metadata": {},
   "source": [
    "Find the indices where this array is negative:"
   ]
  },
  {
   "cell_type": "code",
   "execution_count": null,
   "metadata": {
    "collapsed": false
   },
   "outputs": [],
   "source": [
    "index = #Finish"
   ]
  },
  {
   "cell_type": "markdown",
   "metadata": {},
   "source": [
    "Convert those indices into a zero:"
   ]
  },
  {
   "cell_type": "code",
   "execution_count": null,
   "metadata": {
    "collapsed": false
   },
   "outputs": [],
   "source": []
  },
  {
   "cell_type": "markdown",
   "metadata": {},
   "source": [
    "We can also generte the indices in the same expression where we set `a`"
   ]
  },
  {
   "cell_type": "code",
   "execution_count": null,
   "metadata": {
    "collapsed": false
   },
   "outputs": [],
   "source": [
    "np.random.seed(3) #This way we can reproduce the same \"random\" array as before.\n",
    "a = np.random.random((4,3))-.2\n",
    "a[a<0] = 0\n",
    "a"
   ]
  },
  {
   "cell_type": "markdown",
   "metadata": {},
   "source": [
    "We could have also used the `where` method. But this method does not change a in place. "
   ]
  },
  {
   "cell_type": "code",
   "execution_count": null,
   "metadata": {
    "collapsed": false
   },
   "outputs": [],
   "source": [
    "np.random.seed(3) #This way we can reproduce the same \"random\" array as before.\n",
    "a = np.random.random((4,3))-.2\n",
    "np.where(a<0,0, a) #This does not change a"
   ]
  },
  {
   "cell_type": "markdown",
   "metadata": {},
   "source": [
    "### More on slicing\n",
    "Now we have an array and we need to substract the minimum value of each of the columns."
   ]
  },
  {
   "cell_type": "code",
   "execution_count": null,
   "metadata": {
    "collapsed": false,
    "scrolled": true
   },
   "outputs": [],
   "source": [
    "a = np.arange(12).reshape((4,3))\n",
    "a"
   ]
  },
  {
   "cell_type": "markdown",
   "metadata": {},
   "source": [
    "we can use the '`min` method (or numpy function)"
   ]
  },
  {
   "cell_type": "code",
   "execution_count": null,
   "metadata": {
    "collapsed": false
   },
   "outputs": [],
   "source": [
    "amin = a.min(axis=0)\n",
    "amin"
   ]
  },
  {
   "cell_type": "markdown",
   "metadata": {},
   "source": [
    "Finally we substract this from a:"
   ]
  },
  {
   "cell_type": "code",
   "execution_count": null,
   "metadata": {
    "collapsed": false
   },
   "outputs": [],
   "source": []
  },
  {
   "cell_type": "markdown",
   "metadata": {},
   "source": [
    "Imagine we want to do the same for rows:"
   ]
  },
  {
   "cell_type": "code",
   "execution_count": null,
   "metadata": {
    "collapsed": false
   },
   "outputs": [],
   "source": [
    "a = np.arange(12).reshape((4,3))\n",
    "a"
   ]
  },
  {
   "cell_type": "code",
   "execution_count": null,
   "metadata": {
    "collapsed": true
   },
   "outputs": [],
   "source": [
    "amin = a.min(axis=1)"
   ]
  },
  {
   "cell_type": "code",
   "execution_count": null,
   "metadata": {
    "collapsed": false
   },
   "outputs": [],
   "source": [
    "a-amin"
   ]
  },
  {
   "cell_type": "markdown",
   "metadata": {},
   "source": [
    "How can we solve this? We could transpose the arrays to get the right dimensions for broadcasting, or extend the dimensions of amin get again the right dimensions for broadcastinc"
   ]
  },
  {
   "cell_type": "code",
   "execution_count": null,
   "metadata": {
    "collapsed": false
   },
   "outputs": [],
   "source": [
    "#Transposing (use .T method):\n",
    "\n"
   ]
  },
  {
   "cell_type": "code",
   "execution_count": null,
   "metadata": {
    "collapsed": false
   },
   "outputs": [],
   "source": [
    "#Extending axis\n"
   ]
  },
  {
   "cell_type": "code",
   "execution_count": null,
   "metadata": {
    "collapsed": false
   },
   "outputs": [],
   "source": [
    "#Extending axis\n"
   ]
  },
  {
   "cell_type": "markdown",
   "metadata": {},
   "source": [
    "### dot product and Outer product"
   ]
  },
  {
   "cell_type": "markdown",
   "metadata": {},
   "source": [
    "The dot product is so common that it is implemented in numpy. But if it was not there, could you code it?"
   ]
  },
  {
   "cell_type": "code",
   "execution_count": null,
   "metadata": {
    "collapsed": true
   },
   "outputs": [],
   "source": [
    "a = np.arange(5)\n",
    "b = np.arange(5)+10"
   ]
  },
  {
   "cell_type": "code",
   "execution_count": null,
   "metadata": {
    "collapsed": true
   },
   "outputs": [],
   "source": [
    "result = #Finish"
   ]
  },
  {
   "cell_type": "code",
   "execution_count": null,
   "metadata": {
    "collapsed": true
   },
   "outputs": [],
   "source": [
    "assert result == a.dot(b)"
   ]
  },
  {
   "cell_type": "markdown",
   "metadata": {},
   "source": [
    "Let's check which is faster for large vectors:"
   ]
  },
  {
   "cell_type": "code",
   "execution_count": null,
   "metadata": {
    "collapsed": true
   },
   "outputs": [],
   "source": [
    "a = np.random.random(10000)\n",
    "b = np.random.random(10000)"
   ]
  },
  {
   "cell_type": "code",
   "execution_count": null,
   "metadata": {
    "collapsed": false
   },
   "outputs": [],
   "source": [
    "%timeit a.dot(b)"
   ]
  },
  {
   "cell_type": "code",
   "execution_count": null,
   "metadata": {
    "collapsed": false
   },
   "outputs": [],
   "source": [
    "%timeit #Your code"
   ]
  },
  {
   "cell_type": "markdown",
   "metadata": {},
   "source": [
    "Try writing the code in a `for` loop (if you haven't) and check its performance with the `%timeit` magic function."
   ]
  },
  {
   "cell_type": "code",
   "execution_count": null,
   "metadata": {
    "collapsed": true
   },
   "outputs": [],
   "source": []
  },
  {
   "cell_type": "markdown",
   "metadata": {},
   "source": [
    "The dot vector can be represented as $\\vec x^T \\vec y$ if vectors are matrices of dimensions $(N, 1)$. As such we could also mupliply them this way $\\vec x \\vec y^T$. This returns a matrix of dimensions $(N, N)$, where each element $i, j$ of this matrix is $x_i y_j$. Can you code that?"
   ]
  },
  {
   "cell_type": "code",
   "execution_count": null,
   "metadata": {
    "collapsed": false
   },
   "outputs": [],
   "source": [
    "a = np.arange(5)\n",
    "b = np.arange(5)+10\n",
    "a,b"
   ]
  },
  {
   "cell_type": "code",
   "execution_count": 7,
   "metadata": {
    "collapsed": false
   },
   "outputs": [
    {
     "data": {
      "text/plain": [
       "array([[ 0.36873081,  0.72011549,  0.62800143,  0.08537417,  0.74020582,\n",
       "        -0.08401784,  0.93977809, -0.02062952,  0.33880919,  0.59753261],\n",
       "       [ 0.38228122,  1.20726815,  0.45929903,  0.43048193,  0.19279779,\n",
       "         0.71438802,  1.00554436,  0.74165518,  0.80788075,  0.24475675],\n",
       "       [ 0.72796771,  0.37634381,  0.53725671, -0.11657096,  0.13999787,\n",
       "         0.33417107,  0.39791197,  0.52035295,  0.58182513,  0.82315915],\n",
       "       [ 0.21587885,  0.2610651 ,  0.66376969,  0.8137709 ,  0.75600012,\n",
       "         0.7134234 ,  0.10770219,  0.31022349,  0.34997016, -0.0336475 ],\n",
       "       [ 0.60450379,  0.54275676,  0.87502377,  1.27187025,  1.01828454,\n",
       "         0.93165396,  0.12340618,  1.06040378,  0.1476069 ,  0.98249825],\n",
       "       [ 1.02905158,  0.66099979, -0.16184452,  0.96919091,  0.0989624 ,\n",
       "         0.56817581,  0.86711513,  0.53569094,  0.46162896,  0.67829717],\n",
       "       [ 1.09955574,  0.75872486,  0.72445248,  1.01146433,  0.47912199,\n",
       "         0.80007685,  0.35555064,  0.92132599,  0.29970717,  0.64606451],\n",
       "       [ 0.96316178,  1.18989259,  0.58743376,  0.40634885, -0.22511437,\n",
       "         0.53089497,  0.67538086,  0.21885454,  0.4902112 ,  1.12808555],\n",
       "       [-0.07923765,  0.29343402,  0.11534585,  0.91297467,  0.55880474,\n",
       "         0.65083601,  0.41461239,  0.7677817 ,  0.32281172,  0.64491225],\n",
       "       [ 0.84371556,  0.16483102,  0.40629409,  0.5098535 ,  1.00262379,\n",
       "         0.32523128,  0.37379695,  0.12765442,  1.08222311,  0.50941952]])"
      ]
     },
     "execution_count": 7,
     "metadata": {},
     "output_type": "execute_result"
    }
   ],
   "source": [
    "m=np.random.random((10,10))-np.random.normal(scale=0.2, size=(10,10))"
   ]
  },
  {
   "cell_type": "code",
   "execution_count": 4,
   "metadata": {
    "collapsed": false
   },
   "outputs": [],
   "source": [
    "np.random.normal?"
   ]
  },
  {
   "cell_type": "code",
   "execution_count": null,
   "metadata": {
    "collapsed": true
   },
   "outputs": [],
   "source": []
  }
 ],
 "metadata": {
  "kernelspec": {
   "display_name": "Python 3",
   "language": "python",
   "name": "python3"
  },
  "language_info": {
   "codemirror_mode": {
    "name": "ipython",
    "version": 3
   },
   "file_extension": ".py",
   "mimetype": "text/x-python",
   "name": "python",
   "nbconvert_exporter": "python",
   "pygments_lexer": "ipython3",
   "version": "3.4.5"
  }
 },
 "nbformat": 4,
 "nbformat_minor": 2
}
