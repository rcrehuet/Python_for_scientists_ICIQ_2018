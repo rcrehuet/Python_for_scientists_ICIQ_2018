{
 "cells": [
  {
   "cell_type": "markdown",
   "metadata": {},
   "source": [
    "# Parsing a Protein Databank File"
   ]
  },
  {
   "cell_type": "markdown",
   "metadata": {},
   "source": [
    "In this notebook we will do some simple parsings and analysis on a Protein Databank (PDB) file. You don't need to care about proteins to follow this example. The idea is that some (downloaded) files may need some changes before they can be fed into your favourite program or that you may want to perform some simple analisis on them.\n",
    "\n",
    "For a regular work on PDB files I recommend the use of the [Biopython](http://biopython.org/wiki/Main_Page) extension [`Bio.PDB`](http://biopython.org/wiki/The_Biopython_Structural_Bioinformatics_FAQ)\n",
    "\n",
    "In this tutorial we will:\n",
    "\n",
    "1. Rename HIS residues to HIE residues\n",
    "2. Get the total charge of the protein and the number of charged residues.\n",
    "3. Translate the protein to its center of mass.\n",
    "\n",
    "The data directory contains some pdbs.\n",
    "\n",
    "The PDB is a fixed format. Its format is detailed [here](http://www.wwpdb.org/documentation/file-format-content/format33/v3.3.html). What is relevant here is that the name of the protein residue occupies columns 18-20 and that $x, y, z$ coordinates occupy 31-38, 39-46, 47-54. The numbering start from 1. Atomic positions are in lines starting with [ATOM](http://www.wwpdb.org/documentation/file-format-content/format33/sect9.html#ATOM) or [HETATM](http://www.wwpdb.org/documentation/file-format-content/format33/sect9.html#HETATM) records."
   ]
  },
  {
   "cell_type": "markdown",
   "metadata": {},
   "source": [
    "## HIS to HIE"
   ]
  },
  {
   "cell_type": "code",
   "execution_count": 2,
   "metadata": {
    "collapsed": true
   },
   "outputs": [],
   "source": [
    "filein = open('../data/protein.pdb', 'r')\n",
    "fileout = open('../data/protein_hie.pdb', 'w')\n",
    "#Finish...\n",
    "        \n",
    "filein.close()\n",
    "fileout.close()"
   ]
  },
  {
   "cell_type": "markdown",
   "metadata": {},
   "source": [
    "## Charge calculations "
   ]
  },
  {
   "cell_type": "markdown",
   "metadata": {},
   "source": [
    "We will only consider the standard protonation state at pH=7. Of course, we need to define the negative residues and the positive residues. You can find the charged residues [here](https://upload.wikimedia.org/wikipedia/commons/a/a9/Amino_Acids.svg)\n",
    "\n",
    "We could use a list, but as the order here is irrelevant, we will use a set (for large collections, checking the presence of an object in a set is much faster than checking in a list. In our case, this is irrelevant). \n",
    "\n"
   ]
  },
  {
   "cell_type": "code",
   "execution_count": 6,
   "metadata": {
    "collapsed": false
   },
   "outputs": [],
   "source": [
    "negative = set(['ARG', 'LYS']) #We consider histidines (HIS) neutral and epsilon protonated (thus the HIE name)\n",
    "positive = #Finish\n",
    "charged = #Finish using union method"
   ]
  },
  {
   "cell_type": "markdown",
   "metadata": {},
   "source": [
    "Now we need to count the number of residues. The problem is that if we count the number of GLU, ASP,... occurrences, we will be counting atoms, not residues. And as each residue has a different number of atoms, the translation from atoms to residues is not trivial. But residues are numbered in a PDB. They correspond to columns 23-26.\n",
    "\n",
    "We need to find a change in that column. As a starter, let's see if we can count all the residues this way: by counting the times there is residue change. I can tell you that the protein as 903 residues."
   ]
  },
  {
   "cell_type": "code",
   "execution_count": 3,
   "metadata": {
    "collapsed": false
   },
   "outputs": [
    {
     "name": "stdout",
     "output_type": "stream",
     "text": [
      "Total number of residues:  903\n"
     ]
    }
   ],
   "source": [
    "total_res = 0\n",
    "filein = open('data/protein.pdb', 'r')\n",
    "\n",
    "# Finish...\n",
    "\n",
    "\n",
    "print(\"Total number of residues: \", total_res)"
   ]
  },
  {
   "cell_type": "markdown",
   "metadata": {},
   "source": [
    "Good! So now that we know how to detect a change in residue, we need to count how many of these residues are in the `charged` set."
   ]
  },
  {
   "cell_type": "code",
   "execution_count": 1,
   "metadata": {
    "collapsed": false
   },
   "outputs": [
    {
     "name": "stdout",
     "output_type": "stream",
     "text": [
      "Total number of charged residues:  0\n",
      "Net charge of the protein:  0\n"
     ]
    }
   ],
   "source": [
    "total_charged = 0\n",
    "charge = 0\n",
    "filein = open('data/protein.pdb', 'r')\n",
    "\n",
    "# Finish\n",
    "\n",
    "print(\"Total number of charged residues: \", total_charged)\n",
    "print(\"Net charge of the protein: \", charge)"
   ]
  }
 ],
 "metadata": {
  "kernelspec": {
   "display_name": "Python 3",
   "language": "python",
   "name": "python3"
  },
  "language_info": {
   "codemirror_mode": {
    "name": "ipython",
    "version": 3
   },
   "file_extension": ".py",
   "mimetype": "text/x-python",
   "name": "python",
   "nbconvert_exporter": "python",
   "pygments_lexer": "ipython3",
   "version": "3.4.5"
  }
 },
 "nbformat": 4,
 "nbformat_minor": 0
}
