{
 "cells": [
  {
   "cell_type": "markdown",
   "metadata": {},
   "source": [
    "# Introductory exercices: Loops"
   ]
  },
  {
   "cell_type": "markdown",
   "metadata": {},
   "source": [
    "### Celsius to Kelvin\n",
    "\n",
    "Print the conversion from Celsius degrees to Kelvin, from 0ºC to 40ºC, with a step of 5. That is, 0, 5, 10, 15..."
   ]
  },
  {
   "cell_type": "code",
   "execution_count": 2,
   "metadata": {
    "collapsed": false
   },
   "outputs": [
    {
     "name": "stdout",
     "output_type": "stream",
     "text": [
      "273.15\n",
      "278.15\n",
      "283.15\n",
      "288.15\n",
      "293.15\n",
      "298.15\n",
      "303.15\n",
      "308.15\n",
      "313.15\n"
     ]
    }
   ],
   "source": []
  },
  {
   "cell_type": "markdown",
   "metadata": {},
   "source": [
    "### Multiples\n",
    "\n",
    "*Print* all the multiples of 3 from 0 to 25 that are not multiples of 5 or 7."
   ]
  },
  {
   "cell_type": "code",
   "execution_count": null,
   "metadata": {
    "collapsed": false
   },
   "outputs": [],
   "source": [
    "for n in range(26):\n",
    "    #Finish"
   ]
  },
  {
   "cell_type": "markdown",
   "metadata": {},
   "source": [
    "Now, instead of printing, *generate a list* of all the multiples of 3 from 0 to 25 that are not multiples of 5 or 7."
   ]
  },
  {
   "cell_type": "code",
   "execution_count": null,
   "metadata": {
    "collapsed": true
   },
   "outputs": [],
   "source": []
  },
  {
   "cell_type": "markdown",
   "metadata": {},
   "source": [
    "### Messing with loops\n",
    "\n",
    "What do you expect this loop to do? Check it."
   ]
  },
  {
   "cell_type": "code",
   "execution_count": 2,
   "metadata": {
    "collapsed": false,
    "scrolled": true
   },
   "outputs": [
    {
     "name": "stdout",
     "output_type": "stream",
     "text": [
      "before: 0\n",
      "after:  0\n",
      "----------\n",
      "before: 1\n",
      "after:  1\n",
      "----------\n",
      "before: 2\n",
      "after:  2\n",
      "----------\n",
      "before: 3\n",
      "after:  5\n",
      "----------\n",
      "before: 4\n",
      "after:  4\n",
      "----------\n",
      "before: 5\n",
      "after:  5\n",
      "----------\n",
      "before: 6\n",
      "after:  6\n",
      "----------\n",
      "before: 7\n",
      "after:  9\n",
      "----------\n",
      "before: 8\n",
      "after:  8\n",
      "----------\n",
      "before: 9\n",
      "after:  9\n",
      "----------\n"
     ]
    }
   ],
   "source": [
    "for i in range(10):\n",
    "        print('before:', i)\n",
    "        if i==3 or i==7: i=i+2 #Tying to skip values 4 and 8...\n",
    "        print('after: ',i)\n",
    "        print('----------')"
   ]
  },
  {
   "cell_type": "markdown",
   "metadata": {},
   "source": [
    "From the previous example you should deduce that it is better not to modify the loop variable. So now translate the previous incorrect loop into into a while loop that really skips `i==4` and `i==8`."
   ]
  },
  {
   "cell_type": "code",
   "execution_count": null,
   "metadata": {
    "collapsed": false
   },
   "outputs": [],
   "source": []
  },
  {
   "cell_type": "markdown",
   "metadata": {},
   "source": [
    "### Queuing system\n",
    "\n",
    "You have a list that should act as a kind of queueing system:\n",
    "\n",
    "    queue=['Mariona','Ramon', 'Joan', 'Quique', 'Laia']\n",
    "\n",
    "You want to do something (say print it) with each element of the list, and then remove it form the list. (`pop` can be a useful method). Check that at the and, the list is empty."
   ]
  },
  {
   "cell_type": "code",
   "execution_count": 12,
   "metadata": {
    "collapsed": false
   },
   "outputs": [
    {
     "name": "stdout",
     "output_type": "stream",
     "text": [
      "popping name :  Mariona remaining ['Ramon', 'Joan', 'Quique', 'Laia']\n",
      "popping name :  Ramon remaining ['Joan', 'Quique', 'Laia']\n",
      "popping name :  Joan remaining ['Quique', 'Laia']\n",
      "popping name :  Quique remaining ['Laia']\n",
      "popping name :  Laia remaining []\n"
     ]
    }
   ],
   "source": [
    "queue=['Mariona','Ramon', 'Joan', 'Quique', 'Laia']\n",
    "\n",
    "while queue:\n",
    "    print(\"popping name : \",queue.pop(0), \"remaining\", queue)\n"
   ]
  },
  {
   "cell_type": "code",
   "execution_count": 6,
   "metadata": {
    "collapsed": false
   },
   "outputs": [
    {
     "data": {
      "text/plain": [
       "('Mariona', ['Ramon', 'Joan'])"
      ]
     },
     "execution_count": 6,
     "metadata": {},
     "output_type": "execute_result"
    }
   ],
   "source": [
    "queue.pop(0), queue"
   ]
  },
  {
   "cell_type": "markdown",
   "metadata": {},
   "source": [
    "### Factorial\n",
    "\n",
    "Find the sum of the digits in 100! (answer is 648)"
   ]
  },
  {
   "cell_type": "code",
   "execution_count": null,
   "metadata": {
    "collapsed": false
   },
   "outputs": [],
   "source": []
  },
  {
   "cell_type": "markdown",
   "metadata": {},
   "source": [
    "## Dictionaries"
   ]
  },
  {
   "cell_type": "markdown",
   "metadata": {},
   "source": [
    "### Checking for keys\n",
    "\n",
    "Soft software use keyword to define the type of calculations to be performed. As an example, here we will use the quantum chemistry software Gaussian. Imagine we have stored Gaussian keywords in a dictionary as in:\n",
    "`keywords={'basis':'6-31+G', 'SCF':['XQC', 'Tight'], 'Opt':['TS', 'NoEigenTest']}`\n",
    "Check that if there is a diffuse function in the basis set, SCF has 'tight' as one of its keywords."
   ]
  },
  {
   "cell_type": "code",
   "execution_count": null,
   "metadata": {
    "collapsed": false
   },
   "outputs": [],
   "source": [
    "# Check different possibilities\n",
    "keywords={'basis':'6-31+G', 'SCF':['XQC', 'Tight'], 'Opt':['TS', 'NoEigenTest']}\n",
    "#keywords={'basis':'6-31G', 'SCF':['XQC', 'Tight'], 'Opt':['TS', 'NoEigenTest']}\n",
    "#keywords={'basis':'6-31+G', 'SCF':['XQC',], 'Opt':['TS', 'NoEigenTest']}\n",
    "#keywords={'basis':'6-31+G', 'Opt':['TS', 'NoEigenTest']}\n",
    "\n",
    "\n",
    "if #Finish...\n",
    "        print('When using diffuse functions, \"Tight\" should be used in the SCF!')\n"
   ]
  },
  {
   "cell_type": "markdown",
   "metadata": {},
   "source": [
    "What happens if the 'SCF' keyword is not present as in here?\n",
    "`keywords={'basis':'6-31+G', 'Opt':['TS, 'NoEigenTest']}`"
   ]
  },
  {
   "cell_type": "code",
   "execution_count": null,
   "metadata": {
    "collapsed": true
   },
   "outputs": [],
   "source": [
    "#Finish"
   ]
  },
  {
   "cell_type": "markdown",
   "metadata": {},
   "source": [
    "### Common keys\n",
    "Given two dictionaries, find the keys that are present in both dictionaries. (Hint: you can use sets)\n"
   ]
  },
  {
   "cell_type": "code",
   "execution_count": null,
   "metadata": {
    "collapsed": true
   },
   "outputs": [],
   "source": [
    "def common_keys(d1, d2):\n",
    "    \"\"\"\n",
    "    Return the keys shared by dictionaries d1 and d2\n",
    "    returns a set\n",
    "    \"\"\"\n",
    "    #Finish\n",
    "\n",
    "\n",
    "#Test it\n",
    "d1 = makedict(red=1, green=2, blue=3)\n",
    "d2 = makedict(purple=3, green=5, blue=6, yellow=1)\n",
    "print(common_keys(d1, d2))"
   ]
  },
  {
   "cell_type": "markdown",
   "metadata": {},
   "source": [
    "### Genetic code (_difficult!_)\n",
    "\n",
    "Given the genetic code dictionary, calculate how many codons code each aminoacid. which aminoacid is coded by more codons? The underscore means the STOP codon. (Answer: R and L, 6 times each) "
   ]
  },
  {
   "cell_type": "code",
   "execution_count": null,
   "metadata": {
    "collapsed": true
   },
   "outputs": [],
   "source": [
    "gencode = {\n",
    "    'ATA':'I', 'ATC':'I', 'ATT':'I', 'ATG':'M',\n",
    "    'ACA':'T', 'ACC':'T', 'ACG':'T', 'ACT':'T',\n",
    "    'AAC':'N', 'AAT':'N', 'AAA':'K', 'AAG':'K',\n",
    "    'AGC':'S', 'AGT':'S', 'AGA':'R', 'AGG':'R',\n",
    "    'CTA':'L', 'CTC':'L', 'CTG':'L', 'CTT':'L',\n",
    "    'CCA':'P', 'CCC':'P', 'CCG':'P', 'CCT':'P',\n",
    "    'CAC':'H', 'CAT':'H', 'CAA':'Q', 'CAG':'Q',\n",
    "    'CGA':'R', 'CGC':'R', 'CGG':'R', 'CGT':'R',\n",
    "    'GTA':'V', 'GTC':'V', 'GTG':'V', 'GTT':'V',\n",
    "    'GCA':'A', 'GCC':'A', 'GCG':'A', 'GCT':'A',\n",
    "    'GAC':'D', 'GAT':'D', 'GAA':'E', 'GAG':'E',\n",
    "    'GGA':'G', 'GGC':'G', 'GGG':'G', 'GGT':'G',\n",
    "    'TCA':'S', 'TCC':'S', 'TCG':'S', 'TCT':'S',\n",
    "    'TTC':'F', 'TTT':'F', 'TTA':'L', 'TTG':'L',\n",
    "    'TAC':'Y', 'TAT':'Y', 'TAA':'_', 'TAG':'_',\n",
    "    'TGC':'C', 'TGT':'C', 'TGA':'_', 'TGG':'W'}"
   ]
  },
  {
   "cell_type": "markdown",
   "metadata": {},
   "source": [
    "Remember that you can iterate a dictionary keys with: `for k in gencode:` and its values with: `for v in gencode.values():` Or access the values like this:\n",
    "\n",
    "    for k in d:\n",
    "        v =d[k]\n",
    "\n",
    "This exercice has many possible solutions."
   ]
  },
  {
   "cell_type": "code",
   "execution_count": null,
   "metadata": {
    "collapsed": false
   },
   "outputs": [],
   "source": []
  },
  {
   "cell_type": "markdown",
   "metadata": {},
   "source": [
    "How many of Leu(L) codons differ in only one point mutations from a Ile(I) codon?"
   ]
  },
  {
   "cell_type": "code",
   "execution_count": null,
   "metadata": {
    "collapsed": false
   },
   "outputs": [],
   "source": [
    "#Finish"
   ]
  },
  {
   "cell_type": "code",
   "execution_count": null,
   "metadata": {
    "collapsed": true
   },
   "outputs": [],
   "source": []
  }
 ],
 "metadata": {
  "kernelspec": {
   "display_name": "Python 3",
   "language": "python",
   "name": "python3"
  },
  "language_info": {
   "codemirror_mode": {
    "name": "ipython",
    "version": 3
   },
   "file_extension": ".py",
   "mimetype": "text/x-python",
   "name": "python",
   "nbconvert_exporter": "python",
   "pygments_lexer": "ipython3",
   "version": "3.6.3"
  }
 },
 "nbformat": 4,
 "nbformat_minor": 2
}
