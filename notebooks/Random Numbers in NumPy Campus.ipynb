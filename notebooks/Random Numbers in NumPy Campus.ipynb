{
 "cells": [
  {
   "cell_type": "markdown",
   "metadata": {},
   "source": [
    "# Random Numbers in NumPy"
   ]
  },
  {
   "cell_type": "code",
   "execution_count": null,
   "metadata": {
    "collapsed": true
   },
   "outputs": [],
   "source": [
    "import numpy as np"
   ]
  },
  {
   "cell_type": "markdown",
   "metadata": {},
   "source": [
    "The `numpy.random` module adds to the standard built-in Python `random` functions for generating efficiently whole arrays of sample values with many kinds of probability distributions.\n",
    "\n",
    "_Example_: build a 4x4 array of samples from the standard normal distribution,"
   ]
  },
  {
   "cell_type": "code",
   "execution_count": null,
   "metadata": {},
   "outputs": [],
   "source": [
    "samples = np.random.normal(size=(4,4))\n",
    "samples"
   ]
  },
  {
   "cell_type": "markdown",
   "metadata": {},
   "source": [
    "Advantages? Built-in Random Python only samples one value at a time and it is significantly less efficient.\n",
    "The following block builds an array with 10$^7$ normally distributed values:"
   ]
  },
  {
   "cell_type": "code",
   "execution_count": null,
   "metadata": {},
   "outputs": [],
   "source": [
    "import random\n",
    "N = 10000000\n",
    "%timeit samples = [random.normalvariate(0,1) for i in range(N)]"
   ]
  },
  {
   "cell_type": "markdown",
   "metadata": {},
   "source": [
    "Write the equivalent code using the `np.random.normal()` function and time it! Keep in mind that the NumPy function is vectorized!"
   ]
  },
  {
   "cell_type": "code",
   "execution_count": null,
   "metadata": {},
   "outputs": [],
   "source": []
  },
  {
   "cell_type": "markdown",
   "metadata": {},
   "source": [
    "See the Numpy documentation site for detailed info on the [numpy.random module](http://docs.scipy.org/doc/numpy/reference/routines.random.html)"
   ]
  },
  {
   "cell_type": "markdown",
   "metadata": {},
   "source": [
    "## Random Walks\n",
    "Using standard Python builtin functions, try to write a piece of code corresponding to a 1D Random walker initially located at 0 and taking steps of 1 or -1 with equal probability. \n",
    "\n",
    "_Hint: use a list to keep track of the path of your random walker and have a look at the random.randint() function to generate the steps._ "
   ]
  },
  {
   "cell_type": "code",
   "execution_count": null,
   "metadata": {
    "collapsed": true
   },
   "outputs": [],
   "source": []
  },
  {
   "cell_type": "markdown",
   "metadata": {},
   "source": [
    "If it's too hard to start from scratch, you may want to peek at [my solution](https://www.dropbox.com/s/eigrurkb6wk3tbm/rdwalk_stdPy_FHL.py?dl=0)."
   ]
  },
  {
   "cell_type": "markdown",
   "metadata": {},
   "source": [
    "Use matplotlib to plot the path of your random walker"
   ]
  },
  {
   "cell_type": "code",
   "execution_count": null,
   "metadata": {},
   "outputs": [],
   "source": [
    "import matplotlib.pyplot as plt\n",
    "%matplotlib inline\n",
    "#plt.plot(INSERT THE NAME OF THE VARIABLE CONTAINING THE PATH)"
   ]
  },
  {
   "cell_type": "markdown",
   "metadata": {},
   "source": [
    "Now think of a possible alternative code using NumPy. Keep in mind that:\n",
    "\n",
    "- NumPy offers arrays to store the path\n",
    "- numpy.random offers a vectorized version of random generating functions\n",
    "\n",
    "Again, here is my [solution](https://www.dropbox.com/s/ti6wjs6wjmixcsg/rdwalk_NumPy_FHL.py?dl=0)."
   ]
  },
  {
   "cell_type": "code",
   "execution_count": null,
   "metadata": {
    "collapsed": true
   },
   "outputs": [],
   "source": []
  },
  {
   "cell_type": "markdown",
   "metadata": {},
   "source": [
    "Let's have a look at it:"
   ]
  },
  {
   "cell_type": "code",
   "execution_count": null,
   "metadata": {
    "collapsed": true
   },
   "outputs": [],
   "source": [
    "#plt.plot(INSERT THE NAME OF THE VARIABLE CONTAINING THE PATH)"
   ]
  },
  {
   "cell_type": "markdown",
   "metadata": {},
   "source": [
    "Now that your code is ready, execute it and find the minimum and maximum value along the path."
   ]
  },
  {
   "cell_type": "code",
   "execution_count": null,
   "metadata": {
    "collapsed": true
   },
   "outputs": [],
   "source": []
  },
  {
   "cell_type": "markdown",
   "metadata": {},
   "source": [
    "Find the time (step) at which the random walker reaches a particular given value. How long did it take the walker to get to a value of 20 away from the starting position? \n",
    "\n",
    "_Tip: argmax method returns the index of the first occurence of the maximum value_"
   ]
  },
  {
   "cell_type": "code",
   "execution_count": null,
   "metadata": {
    "collapsed": true
   },
   "outputs": [],
   "source": []
  },
  {
   "cell_type": "markdown",
   "metadata": {},
   "source": [
    "## Simulating Many Random Walkers Simultaneously\n",
    "\n",
    "In order to illustrate the capability of NumPy vs. Standard Python, let us suppose our aim was to simulate many random walkers. The NumPy code needs only to be slightly modified. We only need to add an extra dimension to our arrays!([one solution](https://www.dropbox.com/s/dfaklrpxfud06so/rdwalkv2_NumPy_FHL.py?dl=0))"
   ]
  },
  {
   "cell_type": "code",
   "execution_count": null,
   "metadata": {
    "collapsed": true
   },
   "outputs": [],
   "source": []
  },
  {
   "cell_type": "markdown",
   "metadata": {},
   "source": [
    "Besides the plotting instructions, only one (or few, dependeding on your solution) line of code need to be modified!\n",
    "\n",
    "Find a way to plot all the paths:"
   ]
  },
  {
   "cell_type": "code",
   "execution_count": null,
   "metadata": {
    "collapsed": true
   },
   "outputs": [],
   "source": []
  },
  {
   "cell_type": "markdown",
   "metadata": {},
   "source": [
    "Find out the following information:\n",
    "\n",
    "- Which walker ended farther away from the starting point?\n",
    "- What the farthest value sampled by any walker? Which walker?\n",
    "- What was the most commonly value visiter by the walkers?\n",
    "- How many walkers reach a value of 200 away from the origin?\n",
    "- Which walker is the fastest to reach point 200?"
   ]
  },
  {
   "cell_type": "markdown",
   "metadata": {},
   "source": [
    "## Exploring multiple dimensions\n",
    "\n",
    "1. Generalise your code with one random walker from 1D to 2D.\n",
    "2. Now, the final step, multiple 2D random walkers!\n",
    "3. Multiple velocities?\n",
    "4. Blockers?"
   ]
  },
  {
   "cell_type": "code",
   "execution_count": null,
   "metadata": {
    "collapsed": true
   },
   "outputs": [],
   "source": []
  }
 ],
 "metadata": {
  "kernelspec": {
   "display_name": "Python 3",
   "language": "python",
   "name": "python3"
  },
  "language_info": {
   "codemirror_mode": {
    "name": "ipython",
    "version": 3
   },
   "file_extension": ".py",
   "mimetype": "text/x-python",
   "name": "python",
   "nbconvert_exporter": "python",
   "pygments_lexer": "ipython3",
   "version": "3.6.1"
  }
 },
 "nbformat": 4,
 "nbformat_minor": 1
}
