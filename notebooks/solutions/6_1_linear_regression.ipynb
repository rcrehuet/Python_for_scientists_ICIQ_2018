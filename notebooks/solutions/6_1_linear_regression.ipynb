{
 "cells": [
  {
   "cell_type": "markdown",
   "metadata": {},
   "source": [
    "# Linear regression\n",
    "\n",
    "Linear regression in Python can be done in different ways. From coding it yourself to using a function from a statistics module.\n",
    "\n",
    "Here we will do both."
   ]
  },
  {
   "cell_type": "markdown",
   "metadata": {},
   "source": [
    "## Coding with numpy\n",
    "From the [Wikipedia](http://en.wikipedia.org/wiki/Simple_linear_regression), we see that linear regression can be expressed as:\n",
    "$$\n",
    "y = \\alpha + \\beta x\n",
    "$$\n",
    "where:\n",
    "$$\n",
    "\\beta = \\frac{\\overline{xy} -\\bar x \\bar y}{\\overline{x^2} - \\bar{x}^2}=\\frac{\\mathrm{Cov}[x,y]}{\\mathrm{Var}[x]}\n",
    "$$\n",
    "and $\\alpha=\\overline y - \\beta \\bar x$"
   ]
  },
  {
   "cell_type": "markdown",
   "metadata": {},
   "source": [
    "We first import the basic modules and generate some data with noise."
   ]
  },
  {
   "cell_type": "code",
   "execution_count": 2,
   "metadata": {
    "collapsed": false
   },
   "outputs": [],
   "source": [
    "import numpy as np\n",
    "import matplotlib.pyplot as plt\n",
    "%matplotlib inline"
   ]
  },
  {
   "cell_type": "code",
   "execution_count": 5,
   "metadata": {
    "collapsed": false
   },
   "outputs": [
    {
     "data": {
      "image/png": "[encoded data removed]",
      "text/plain": [
       "<matplotlib.figure.Figure at 0x7f8c712bfa20>"
      ]
     },
     "metadata": {},
     "output_type": "display_data"
    }
   ],
   "source": [
    "x = np.arange(10.)\n",
    "y = 5*x+3\n",
    "np.random.seed(3)\n",
    "y+= np.random.normal(scale=10,size=x.size)\n",
    "plt.scatter(x,y);"
   ]
  },
  {
   "cell_type": "code",
   "execution_count": 6,
   "metadata": {
    "collapsed": false
   },
   "outputs": [
    {
     "data": {
      "text/plain": [
       "(7.1454545454545411, 3.6787878787878796)"
      ]
     },
     "execution_count": 6,
     "metadata": {},
     "output_type": "execute_result"
    }
   ],
   "source": [
    "def lin_reg(x,y):\n",
    "    \"\"\"\n",
    "    Perform a linear regression of x vs y.\n",
    "    x, y are 1 dimensional numpy arrays\n",
    "    returns alpha and beta for the model y = alpha + beta*x\n",
    "    \"\"\"\n",
    "    beta = np.mean(x*y)-np.mean(x)*np.mean(y)\n",
    "    beta /= np.mean(x**2)-np.mean(x)**2\n",
    "    alpha = np.mean(y)-beta*np.mean(x)\n",
    "    return alpha, beta\n",
    "\n",
    "lin_reg(x,y)"
   ]
  },
  {
   "cell_type": "markdown",
   "metadata": {},
   "source": [
    "We could also implement it with the numpy covariance function. The diagonal terms represent the variance."
   ]
  },
  {
   "cell_type": "code",
   "execution_count": 9,
   "metadata": {
    "collapsed": false
   },
   "outputs": [
    {
     "data": {
      "text/plain": [
       "(7.1454545454545446, 3.6787878787878787)"
      ]
     },
     "execution_count": 9,
     "metadata": {},
     "output_type": "execute_result"
    }
   ],
   "source": [
    "def lin_reg2(x,y):\n",
    "    \"\"\"\n",
    "    Perform a linear regression of x vs y. Uses covariances.\n",
    "    x, y are 1 dimensional numpy arrays\n",
    "    returns alpha and beta for the model y = alpha + beta*x\n",
    "    \"\"\"\n",
    "    c = np.cov(x,y)\n",
    "    beta = c[0,1]/c[0,0]\n",
    "    alpha = np.mean(y)-beta*np.mean(x)\n",
    "    return alpha, beta\n",
    "\n",
    "lin_reg2(x,y)"
   ]
  },
  {
   "cell_type": "markdown",
   "metadata": {},
   "source": [
    "## Coding as a least square problem"
   ]
  },
  {
   "cell_type": "markdown",
   "metadata": {},
   "source": [
    "The previous methods only works for single variables. We could generalize it if we code it as a [least square problem](http://en.wikipedia.org/wiki/Linear_least_squares_%28mathematics%29):\n",
    "$$\n",
    "\\bf y = \\bf A \\boldsymbol \\beta\n",
    "$$\n",
    "Remark that $\\bf A$ is $\\bf X$ with an extra column to represent independent term, previously called $\\alpha$, that now corresponds to $\\beta_{N+1}$.\n",
    "$$\n",
    "\\bf A = \\left[\\bf X , \\bf 1 \\right]\n",
    "$$"
   ]
  },
  {
   "cell_type": "code",
   "execution_count": 10,
   "metadata": {
    "collapsed": false
   },
   "outputs": [
    {
     "data": {
      "text/plain": [
       "array([ 3.67878788,  7.14545455])"
      ]
     },
     "execution_count": 10,
     "metadata": {},
     "output_type": "execute_result"
    }
   ],
   "source": [
    "def lin_reg3(x,y):\n",
    "    \"\"\"\n",
    "    Perform a linear regression of x vs y. Uses least squares.\n",
    "    x, y are 1 dimensional numpy arrays\n",
    "    returns alpha and beta for the model y = alpha + beta*x\n",
    "    \"\"\"\n",
    "    A = np.vstack([x,np.ones_like(x)])\n",
    "    return np.linalg.lstsq(A.T,y)[0]\n",
    "\n",
    "lin_reg3(x,y)"
   ]
  },
  {
   "cell_type": "markdown",
   "metadata": {},
   "source": [
    "## The simple ways\n",
    "### numpy"
   ]
  },
  {
   "cell_type": "markdown",
   "metadata": {},
   "source": [
    "As usual, for tasks as common as a linear regression, there are already implemented solutions in several packages. In numpy, we can use polyfit, which can fit polinomial of degree $N$. "
   ]
  },
  {
   "cell_type": "code",
   "execution_count": 11,
   "metadata": {
    "collapsed": false
   },
   "outputs": [
    {
     "data": {
      "text/plain": [
       "array([ 3.67878788,  7.14545455])"
      ]
     },
     "execution_count": 11,
     "metadata": {},
     "output_type": "execute_result"
    }
   ],
   "source": [
    "np.polyfit(x,y, 1)"
   ]
  },
  {
   "cell_type": "markdown",
   "metadata": {},
   "source": [
    "### scipy"
   ]
  },
  {
   "cell_type": "markdown",
   "metadata": {},
   "source": [
    "scipy has a [statistics module](http://docs.scipy.org/doc/scipy-0.14.0/reference/stats.html) that returns the fit and the correlation coefficient:"
   ]
  },
  {
   "cell_type": "code",
   "execution_count": 12,
   "metadata": {
    "collapsed": true
   },
   "outputs": [],
   "source": [
    "import scipy.stats as stats"
   ]
  },
  {
   "cell_type": "code",
   "execution_count": 13,
   "metadata": {
    "collapsed": false
   },
   "outputs": [
    {
     "data": {
      "text/plain": [
       "(3.6787878787878792, 7.1454545454545446, 0.81763690029241587)"
      ]
     },
     "execution_count": 13,
     "metadata": {},
     "output_type": "execute_result"
    }
   ],
   "source": [
    "alpha, beta, r, *__ = stats.linregress(x,y)\n",
    "alpha, beta, r"
   ]
  },
  {
   "cell_type": "markdown",
   "metadata": {},
   "source": [
    "### scikit-learn"
   ]
  },
  {
   "cell_type": "markdown",
   "metadata": {},
   "source": [
    "The most powerful module for doing data analysis, and Machine Learning is [scikit-learn](http://scikit-learn.org/stable/index.html). There is a [good documentation on linear models](http://scikit-learn.org/stable/modules/linear_model.html)"
   ]
  },
  {
   "cell_type": "code",
   "execution_count": 63,
   "metadata": {
    "collapsed": true
   },
   "outputs": [],
   "source": [
    "from sklearn import linear_model"
   ]
  },
  {
   "cell_type": "code",
   "execution_count": 64,
   "metadata": {
    "collapsed": true
   },
   "outputs": [],
   "source": [
    "clf = linear_model.LinearRegression()"
   ]
  },
  {
   "cell_type": "code",
   "execution_count": 68,
   "metadata": {
    "collapsed": false
   },
   "outputs": [
    {
     "data": {
      "text/plain": [
       "LinearRegression(copy_X=True, fit_intercept=True, normalize=False)"
      ]
     },
     "execution_count": 68,
     "metadata": {},
     "output_type": "execute_result"
    }
   ],
   "source": [
    "clf.fit(x[:, np.newaxis], y)"
   ]
  },
  {
   "cell_type": "code",
   "execution_count": 73,
   "metadata": {
    "collapsed": false
   },
   "outputs": [
    {
     "data": {
      "text/plain": [
       "(array([ 4.58787879]), 9.0545454545454511)"
      ]
     },
     "execution_count": 73,
     "metadata": {},
     "output_type": "execute_result"
    }
   ],
   "source": [
    "clf.coef_, clf.intercept_"
   ]
  },
  {
   "cell_type": "markdown",
   "metadata": {},
   "source": [
    "## Efficiency\n",
    "\n",
    "As an exercice test the speed of these implementation for a larger dataset."
   ]
  },
  {
   "cell_type": "code",
   "execution_count": null,
   "metadata": {
    "collapsed": true
   },
   "outputs": [],
   "source": []
  }
 ],
 "metadata": {
  "kernelspec": {
   "display_name": "Python 3",
   "language": "python",
   "name": "python3"
  },
  "language_info": {
   "codemirror_mode": {
    "name": "ipython",
    "version": 3
   },
   "file_extension": ".py",
   "mimetype": "text/x-python",
   "name": "python",
   "nbconvert_exporter": "python",
   "pygments_lexer": "ipython3",
   "version": "3.5.2"
  }
 },
 "nbformat": 4,
 "nbformat_minor": 0
}
