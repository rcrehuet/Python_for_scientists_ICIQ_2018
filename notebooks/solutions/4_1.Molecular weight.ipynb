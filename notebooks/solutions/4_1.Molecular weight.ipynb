{
 "cells": [
  {
   "cell_type": "markdown",
   "metadata": {},
   "source": [
    "# Molecular weight"
   ]
  },
  {
   "cell_type": "markdown",
   "metadata": {},
   "source": [
    "We want to calculate the molecular weight of a chemical formula. So given $\\mathrm{C_6H_6}$ we want the result to be $12\\times 6+1\\times 6 = 18$. We can use integer as an approximation to the atomic weight to ease our mental calculations. Improving that at the end is trivial.\n",
    "\n",
    "The most straightforward way to keep the atomic weights of elements is in a dicctionary:"
   ]
  },
  {
   "cell_type": "code",
   "execution_count": 2,
   "metadata": {
    "collapsed": false
   },
   "outputs": [],
   "source": [
    "weightDict = {\n",
    "'C':12,\n",
    "'H':1,\n",
    "'O':16,\n",
    "'Cl':35\n",
    "#add more if needed.\n",
    "}"
   ]
  },
  {
   "cell_type": "markdown",
   "metadata": {},
   "source": [
    "Parsing the molecular formula is not a trivial task that we will do later. We start by assuming that the formula has been parsed.\n",
    "We will start by keeping the formula as a dictionary. In a condensed formula, each element appears only once, and its subindex indicates the total amount of atoms of that element in the molecule. Ethanol is $\\mathrm{C_2H_6O}$."
   ]
  },
  {
   "cell_type": "code",
   "execution_count": 12,
   "metadata": {
    "collapsed": false
   },
   "outputs": [],
   "source": [
    "ethanol = {'C':2, 'H':6, 'O':1}\n",
    "water = {'H':2, 'O':1}\n",
    "HCl = {'H':1, 'Cl':1}"
   ]
  },
  {
   "cell_type": "markdown",
   "metadata": {},
   "source": [
    "From that, calculate the total weight:"
   ]
  },
  {
   "cell_type": "code",
   "execution_count": 1,
   "metadata": {
    "collapsed": false
   },
   "outputs": [],
   "source": [
    "#Finish..."
   ]
  },
  {
   "cell_type": "markdown",
   "metadata": {},
   "source": [
    "Now imagine we also accept formulas in an extended way, for example ethanol as $\\mathrm{CH_3CH_2OH}$. In that case it makes sense that our parsing procedure returns a list of tuples such as:"
   ]
  },
  {
   "cell_type": "code",
   "execution_count": 21,
   "metadata": {
    "collapsed": false
   },
   "outputs": [],
   "source": [
    "ethanol2 = [('C',1), ('H',3), ('C',1), ('H',2), ('O',1), ('H',1)]\n",
    "acetic2 = [('C',1), ('H',3), ('C',1), ('O',1), ('O',1), ('H',1)]"
   ]
  },
  {
   "cell_type": "markdown",
   "metadata": {},
   "source": [
    "From that, we could also create a dictionary such as the previous one, but we can also calculate the weight directly:"
   ]
  },
  {
   "cell_type": "code",
   "execution_count": 2,
   "metadata": {
    "collapsed": false
   },
   "outputs": [],
   "source": [
    "#Finish"
   ]
  },
  {
   "cell_type": "markdown",
   "metadata": {},
   "source": [
    "## Parsing\n",
    "Parsing the formula is not a trivial task. You have to remember the follwing:\n",
    "\n",
    "* Some elements have 1 letter names, others have 2. In that case the second letter is always lower-case.\n",
    "* Some numbers can be higher than 9, i.e. use 2 or more figures.\n",
    "* When the number is 1, it us usually not written.\n",
    "\n",
    "When coding a complex situation such as this one, it makes sense to plan a strategy for all these scenarios, but start coding and testing the simple cases (1 letter per element, etc)\n",
    "\n",
    "Python has a [built-in module](https://docs.python.org/3.4/library/re.html) to work with regular expressions that could ease the parsing. But in this case the problem is simple enough that you can solve it without the use of regular expressions.\n",
    "\n",
    "Here is a possible solution, but different (and possibly better!) approaches are surely possible: \n"
   ]
  },
  {
   "cell_type": "code",
   "execution_count": 3,
   "metadata": {
    "collapsed": true
   },
   "outputs": [],
   "source": [
    "#Try to do it before looking at the answer!"
   ]
  },
  {
   "cell_type": "code",
   "execution_count": 1,
   "metadata": {
    "collapsed": false
   },
   "outputs": [
    {
     "data": {
      "text/plain": [
       "(46, 46, 60, 937)"
      ]
     },
     "execution_count": 1,
     "metadata": {},
     "output_type": "execute_result"
    }
   ],
   "source": [
    "def weight(formula):\n",
    "    \"\"\"\n",
    "    Calcula el pes atòmic d'una formula química\n",
    "    \"\"\"\n",
    "    def parsing(formula):\n",
    "        \"\"\"\n",
    "        Parse the formula and return a list of pairs such as ('C', 3)\n",
    "        \"\"\"   \n",
    "        formList = []\n",
    "        number = None\n",
    "        symbol=''\n",
    "        for s in formula:\n",
    "            if s.isdigit():\n",
    "                try:\n",
    "                    number = number + s\n",
    "                except:\n",
    "                    number = s\n",
    "            elif s.islower(): #we're reading a 2-letter symbol\n",
    "                symbol = symbol + s \n",
    "            else: #We're reading a new symbol\n",
    "                if not number and symbol: #If the symbol does not have subindex\n",
    "                    formList.append((symbol,1))\n",
    "                elif number:\n",
    "                    formList.append((symbol,int(number)))\n",
    "                symbol = s\n",
    "                number = None\n",
    "        #Add the last element\n",
    "        if number: \n",
    "            formList.append((symbol,int(number)))\n",
    "        else:\n",
    "            formList.append((symbol,1))\n",
    "        return formList\n",
    "    \n",
    "    formulaList = parsing(formula)\n",
    "    # With the list, calculate the weight\n",
    "    weightDict={'C':12, 'O':16, 'H':1, 'Cl':35, 'S':32,'Na':23}\n",
    "    weight = 0\n",
    "    for elem, quant in formulaList:\n",
    "        weight += weightDict[elem]*quant\n",
    "    return weight\n",
    "\n",
    "(weight('C2H6O'),    \n",
    "weight('CH3CH2OH'),\n",
    "weight('CH3COOH'),\n",
    "weight('C56H3CCl3H2OClNa3Na'))"
   ]
  },
  {
   "cell_type": "code",
   "execution_count": 24,
   "metadata": {
    "collapsed": false
   },
   "outputs": [
    {
     "name": "stdout",
     "output_type": "stream",
     "text": [
      "Write a molecule: 4\n"
     ]
    }
   ],
   "source": [
    "molecule = input(\"Write a molecule: \")"
   ]
  },
  {
   "cell_type": "code",
   "execution_count": 38,
   "metadata": {
    "collapsed": false
   },
   "outputs": [
    {
     "name": "stdout",
     "output_type": "stream",
     "text": [
      "What do you want?\n",
      " Molecular Number (Type 2) or Molecular Weight (Type 3): 3\n",
      "The result is 30.06964\n"
     ]
    }
   ],
   "source": [
    "Atomic_dict = Atomic_dict_fun()\n",
    "lista = list(\"C2H6\")\n",
    "vS,vN = read_molecule(lista)\n",
    "print(\"The result is\", molecular_weight_number(vS,vN))\n"
   ]
  }
 ],
 "metadata": {
  "kernelspec": {
   "display_name": "Python 3",
   "language": "python",
   "name": "python3"
  },
  "language_info": {
   "codemirror_mode": {
    "name": "ipython",
    "version": 3
   },
   "file_extension": ".py",
   "mimetype": "text/x-python",
   "name": "python",
   "nbconvert_exporter": "python",
   "pygments_lexer": "ipython3",
   "version": "3.5.2"
  }
 },
 "nbformat": 4,
 "nbformat_minor": 0
}
