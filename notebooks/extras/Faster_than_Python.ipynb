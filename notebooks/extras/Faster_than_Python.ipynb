{
 "cells": [
  {
   "cell_type": "markdown",
   "metadata": {},
   "source": [
    "# Faster than Python\n",
    "Sometimes your numerical calculations are too slow. We have already discussed several ways to increase their speed. The simplest one is using numpy and scipy functions instead of python loops.\n",
    "\n",
    "A second possibility is to use a fortran subroutine converted into a python function with f2py. I've alse mentioned the use of Cython, for those of you familiar with C or its variants.\n",
    "\n",
    "Today I will introduce a couple of other possibilities: [numba](http://numba.pydata.org/) and [julia](http://julialang.org/).\n",
    "\n",
    "Numba is a python module that allows \"just-in-time\" compilation to generate optimized machine code of your functions.\n",
    "\n",
    "Julia is a completely independent language. Do we need yet another language? Well, Julia is not that independent. Here you have some of its characteristics that render it a close relative to Python:\n",
    "\n",
    "* Its syntax and its data types are close to Python. It is not object oriented. In my blog, there is [an example](https://ramoncrehuet.wordpress.com/2015/03/10/nufft-with-julia/) of how to translate Python code into Julia\n",
    "* From julia, you can load Python modules.\n",
    "* From ipython, you can execute julia code with the `%julia` magici function.\n",
    "* It integrates perfectly with Jupyter (the language independent notebook), so that you can have an ijulia notebook.\n",
    "\n",
    "To execute `%julia` magic function you just need to add it to `magics/scripts.py` as explained [here](http://stackoverflow.com/questions/24091373/best-way-to-run-julia-code-in-an-ipython-notebook-or-python-code-in-an-ijulia-n). Of course, you need to install julia first (it comes with the Ubuntu distro).\n",
    "\n",
    "To have an ijulia notebook, you need to run `Pkg.add(\"IJulia\")` from Julia."
   ]
  },
  {
   "cell_type": "code",
   "execution_count": 3,
   "metadata": {
    "collapsed": false
   },
   "outputs": [
    {
     "name": "stdout",
     "output_type": "stream",
     "text": [
      "Hello from Julia. Here is a Julia array\n",
      "10-element Array{Int64,1}:\n",
      "  1\n",
      "  2\n",
      "  3\n",
      "  4\n",
      "  5\n",
      "  6\n",
      "  7\n",
      "  8\n",
      "  9\n",
      " 10\n"
     ]
    }
   ],
   "source": [
    "%%julia\n",
    "println(\"Hello from Julia. Here is a Julia array\")\n",
    "[1:10]"
   ]
  },
  {
   "cell_type": "code",
   "execution_count": 4,
   "metadata": {
    "collapsed": true
   },
   "outputs": [],
   "source": [
    "from numba import jit\n",
    "from numpy import arange"
   ]
  },
  {
   "cell_type": "code",
   "execution_count": 6,
   "metadata": {
    "collapsed": false
   },
   "outputs": [
    {
     "name": "stdout",
     "output_type": "stream",
     "text": [
      "36.0\n"
     ]
    }
   ],
   "source": [
    "# jit decorator tells Numba to compile this function.\n",
    "# The argument types will be inferred by Numba when function is called.\n",
    "@jit\n",
    "def sum2d_jit(arr):\n",
    "    M, N = arr.shape\n",
    "    result = 0.0\n",
    "    for i in range(M):\n",
    "        for j in range(N):\n",
    "            result += arr[i,j]\n",
    "    return result\n",
    "\n",
    "def sum2d(arr):\n",
    "    M, N = arr.shape\n",
    "    result = 0.0\n",
    "    for i in range(M):\n",
    "        for j in range(N):\n",
    "            result += arr[i,j]\n",
    "    return result\n",
    "\n"
   ]
  },
  {
   "cell_type": "code",
   "execution_count": 15,
   "metadata": {
    "collapsed": false
   },
   "outputs": [],
   "source": [
    "a = arange(9999*999).reshape(9999,999)"
   ]
  },
  {
   "cell_type": "code",
   "execution_count": 16,
   "metadata": {
    "collapsed": false
   },
   "outputs": [
    {
     "name": "stdout",
     "output_type": "stream",
     "text": [
      "1 loops, best of 3: 4.88 s per loop\n"
     ]
    }
   ],
   "source": [
    "%timeit sum2d(a)"
   ]
  },
  {
   "cell_type": "code",
   "execution_count": 17,
   "metadata": {
    "collapsed": false
   },
   "outputs": [
    {
     "data": {
      "text/plain": [
       "True"
      ]
     },
     "execution_count": 17,
     "metadata": {},
     "output_type": "execute_result"
    }
   ],
   "source": [
    "sum2d(a) == sum2d_jit(a)"
   ]
  },
  {
   "cell_type": "code",
   "execution_count": null,
   "metadata": {
    "collapsed": true
   },
   "outputs": [],
   "source": [
    "%timeit sum2d_jit(a)"
   ]
  },
  {
   "cell_type": "markdown",
   "metadata": {},
   "source": [
    "Let's compare it to the Python sum function and the numpy sum method. As you can see the Python function is slower, because it is coded to work with all types of iterables (lists, arrays, sets, etc). `np.sum` being more specialized can be more efficient. \n",
    "\n",
    "Interestingly, our function optimized with numba is almost as fast as the optimized numpy funcion."
   ]
  },
  {
   "cell_type": "code",
   "execution_count": 19,
   "metadata": {
    "collapsed": false
   },
   "outputs": [
    {
     "name": "stdout",
     "output_type": "stream",
     "text": [
      "10 loops, best of 3: 34.6 ms per loop\n",
      "100 loops, best of 3: 15.9 ms per loop\n"
     ]
    }
   ],
   "source": [
    "%timeit sum(a)\n",
    "%timeit a.sum()"
   ]
  },
  {
   "cell_type": "code",
   "execution_count": null,
   "metadata": {
    "collapsed": true
   },
   "outputs": [],
   "source": []
  }
 ],
 "metadata": {
  "kernelspec": {
   "display_name": "Python 3",
   "language": "python",
   "name": "python3"
  },
  "language_info": {
   "codemirror_mode": {
    "name": "ipython",
    "version": 3
   },
   "file_extension": ".py",
   "mimetype": "text/x-python",
   "name": "python",
   "nbconvert_exporter": "python",
   "pygments_lexer": "ipython3",
   "version": "3.5.2"
  }
 },
 "nbformat": 4,
 "nbformat_minor": 0
}
