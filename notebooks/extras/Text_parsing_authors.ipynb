{
 "cells": [
  {
   "cell_type": "markdown",
   "metadata": {},
   "source": [
    "# Text Parsing. Counting authors in a journal issue "
   ]
  },
  {
   "cell_type": "markdown",
   "metadata": {},
   "source": [
    "I was recently reading some of the reviews in a [special issue](http://pubs.acs.org/toc/chreay/114/13) of *Chemical Reviews*. I was surprised to see how long the reviews were and also that some authors appeared in several reviews. So here we are going to practice some Python to analyse this data.\n",
    "\n",
    "I downloaded all the references of the issue in a RIS format that you can find in the `data` directory (`achs_chreay114_6557.ris`). The RIS format contains each article separated with a blank line and all authors are quoted in lines starting with `AU  - `.\n",
    "\n",
    "(A powerful way to store this information would be in some structured format, such as JSON, but as this is only an exploratory work in an introductory course, we will only use simple Python structures)\n",
    "\n",
    "We will start by parsing the file and generating a list of dictionaries, where each dictonary will contain the author keys, the starting page (sp) key and the end page (ep) key.\n",
    "\n",
    "As in many of our everyday tasks, we need to parse some files (or web-page) to get the data. This parsing is usually neglected in many scientific programming approaches, but it can be one of the most time-consuming parts of our task (fortunately, not in this case)."
   ]
  },
  {
   "cell_type": "markdown",
   "metadata": {},
   "source": [
    "We first create a function that returns the value. In this function you can see that if you put some examples in the docstring, you can directly use that for testing with the module doctest. Testing your code takes time and it can be difficult for scientific algorithms, but it is very important.\n",
    "\n",
    "`doctest` is the simplest module. More elaborate testing can be done with [nose](https://nose.readthedocs.org/en/latest/)"
   ]
  },
  {
   "cell_type": "code",
   "execution_count": null,
   "metadata": {
    "collapsed": false
   },
   "outputs": [],
   "source": [
    "def get_val(line):\n",
    "    \"\"\"\n",
    "    Get the value after the key for a RIS formatted line\n",
    "    \n",
    "    >>> get_val('AU  - Garcia-Pino, Abel')\n",
    "    'Garcia-Pino, Abel'\n",
    "    >>> get_val('AU  - Uversky, Vladimir N.')\n",
    "    'Uversky, Vladimir N.'\n",
    "    >>> get_val('SP  - 6933')\n",
    "    '6933'\n",
    "    >>> get_val('EP  - 6947')\n",
    "    '6947'\n",
    "    \"\"\"\n",
    "    #Finish...\n",
    "\n",
    "import doctest\n",
    "doctest.testmod()"
   ]
  },
  {
   "cell_type": "markdown",
   "metadata": {},
   "source": [
    "Now we scan all the text file. For each empty line we create a new entry (we'll correct for the blank lines at the beggining of the file later).\n",
    "\n",
    "We use the [`setdefault`](https://docs.python.org/3/library/stdtypes.html#dict.setdefault) method to add an empty list when the key is not present. As usual, if you do not know about this method, you could have programmed that line a little more verbosely with something like:\n",
    "\n",
    "    if line.startswith('AU  -'):\n",
    "        if 'authors' in articles[-1]:\n",
    "            articles[-1]['authors'].append(get_val(line).strip())\n",
    "        else:\n",
    "            articles[-1]['authors'] = [get_val(line).strip(), ]\n",
    "            \n",
    "This is a recurrent situation in Python, which we have already commented. Python is a large language and part of the coding time should be invested in looking for documentation about modules and language capabilities that can ease our coding. At some point, however, you have to start coding and use the tools you have found. Even if there could be a more adequate tool specific for that task. The time you invest in this information search depends on how much you expect to use or re-use the code you are writing."
   ]
  },
  {
   "cell_type": "code",
   "execution_count": null,
   "metadata": {
    "collapsed": false
   },
   "outputs": [],
   "source": [
    "filein = open('data/achs_chreay114_6557.ris', 'r')\n",
    "articles = []\n",
    "for line in filein:\n",
    "    if line.strip()=='':\n",
    "        articles.append(dict())\n",
    "    if line.startswith('AU  -'):\n",
    "        articles[-1].setdefault('authors', []).append(get_val(line).strip())\n",
    "    if line.startswith('SP  -'):\n",
    "        #Finish...\n",
    "    if line.startswith('EP  -'):\n",
    "        #finish...\n",
    "filein.close()        "
   ]
  },
  {
   "cell_type": "markdown",
   "metadata": {},
   "source": [
    "Because there were some blank lines at the begining of the file, that created some empty dictionaries that we can now remove (using the fact that empty object evaluate as `False`):"
   ]
  },
  {
   "cell_type": "code",
   "execution_count": null,
   "metadata": {
    "collapsed": false
   },
   "outputs": [],
   "source": [
    "articles = #Finish..."
   ]
  },
  {
   "cell_type": "markdown",
   "metadata": {},
   "source": [
    "## Analysing the data "
   ]
  },
  {
   "cell_type": "markdown",
   "metadata": {},
   "source": [
    "We start by counting the average length of the papers in this issue (it would be interesting to compare it with other issues of the same journal...)."
   ]
  },
  {
   "cell_type": "code",
   "execution_count": null,
   "metadata": {
    "collapsed": true
   },
   "outputs": [],
   "source": [
    "import numpy as np"
   ]
  },
  {
   "cell_type": "code",
   "execution_count": null,
   "metadata": {
    "collapsed": false
   },
   "outputs": [],
   "source": [
    "page_lengths = [*FINISH* for d in articles]\n",
    "page_lengths"
   ]
  },
  {
   "cell_type": "code",
   "execution_count": null,
   "metadata": {
    "collapsed": false
   },
   "outputs": [],
   "source": [
    "\"The average number of pages is {:.1f} and its standard deviation {:.1f}\".format(*FINISH*)"
   ]
  },
  {
   "cell_type": "markdown",
   "metadata": {},
   "source": [
    "Now let's count how many papers in this issue has contributed each author. We'll create a dictionary of authors keys and number of papers as values."
   ]
  },
  {
   "cell_type": "code",
   "execution_count": null,
   "metadata": {
    "collapsed": false
   },
   "outputs": [],
   "source": [
    "author_dict = {}\n",
    "for d in articles:\n",
    "    for author in d['authors']:\n",
    "        author_dict[author] = author_dict.setdefault(author, 0) + 1"
   ]
  },
  {
   "cell_type": "code",
   "execution_count": null,
   "metadata": {
    "collapsed": false
   },
   "outputs": [],
   "source": [
    "author_dict.values()"
   ]
  },
  {
   "cell_type": "markdown",
   "metadata": {},
   "source": [
    "So one author published 7 papers in that issue, another one 3 papers and several have authored 2 papers! Let's see who authored more than one paper. We will print the results sorted by the number of papers authored. We want to get a list such as:\n",
    "\n",
    "    Uversky, Vladimir N. published 7 papers\n",
    "    Tompa, Peter published 3 papers\n",
    "    Longhi, Sonia published 2 papers\n",
    "    Habchi, Johnny published 2 papers\n",
    "    Weatheritt, Robert J. published 2 papers\n",
    "    Xue, Bin published 2 papers\n",
    "    Kurgan, Lukasz published 2 papers\n",
    "    Fuxreiter, Monika published 2 papers\n"
   ]
  },
  {
   "cell_type": "code",
   "execution_count": null,
   "metadata": {
    "collapsed": false
   },
   "outputs": [],
   "source": [
    "papers_authored = set([p for p in author_dict.values() if p>1]) # Remove repeated elements\n",
    "papers_authored = # We need to convert to a list to sort\n",
    "#Sort the list...\n",
    "\n",
    "# Print the results"
   ]
  },
  {
   "cell_type": "markdown",
   "metadata": {},
   "source": [
    " Now let's see how many pages they have (presumably) written or supervised... Get something like:\n",
    " \n",
    "    Uversky, Vladimir N. published 7 papers adding up to 208 pages\n",
    "    Tompa, Peter published 3 papers adding up to 89 pages\n",
    "    Longhi, Sonia published 2 papers adding up to 60 pages\n",
    "    Habchi, Johnny published 2 papers adding up to 60 pages\n",
    "    Weatheritt, Robert J. published 2 papers adding up to 89 pages\n",
    "    Xue, Bin published 2 papers adding up to 70 pages\n",
    "    Kurgan, Lukasz published 2 papers adding up to 70 pages\n",
    "    Fuxreiter, Monika published 2 papers adding up to 81 pages"
   ]
  },
  {
   "cell_type": "code",
   "execution_count": null,
   "metadata": {
    "collapsed": false
   },
   "outputs": [],
   "source": [
    "def get_pages(name, articles):\n",
    "    \"\"\"\n",
    "    Get the total number of pages for a given author.\n",
    "    Return 0 if the author is not in the article authors.\n",
    "    \"\"\"\n",
    "    pages = 0\n",
    "    for art in articles:\n",
    "        if name in art['authors']:\n",
    "            pages += art['ep']-art['sp']+1\n",
    "    return pages\n",
    "    \n",
    "#Finish..."
   ]
  },
  {
   "cell_type": "markdown",
   "metadata": {},
   "source": [
    "As usual, some documentation search would have shown us a module that could have eased the coding. The `collections` module has a [`Counter`](https://docs.python.org/3.4/library/collections.html#collections.Counter) type that is useful for counting things. When fed with a list, `Counter` counts its elements and stores something similar to a dictionary."
   ]
  },
  {
   "cell_type": "code",
   "execution_count": null,
   "metadata": {
    "collapsed": true
   },
   "outputs": [],
   "source": [
    "from collections import Counter"
   ]
  },
  {
   "cell_type": "code",
   "execution_count": null,
   "metadata": {
    "collapsed": false
   },
   "outputs": [],
   "source": [
    "author_count = Counter()\n",
    "for d in articles:\n",
    "    author_count.update(d['authors'])"
   ]
  },
  {
   "cell_type": "markdown",
   "metadata": {},
   "source": [
    "`author_dict` and `author_count` are similar objects. But `Counters` has some useful counting methods, so that we do not need the `papers_authored` list. Using the `Counter` object the code is simpler. This prints our final list in a single loop:"
   ]
  },
  {
   "cell_type": "code",
   "execution_count": null,
   "metadata": {
    "collapsed": false
   },
   "outputs": [],
   "source": [
    "for author, val in author_count.most_common():\n",
    "    if val > 1:\n",
    "        pages = get_pages(author, articles)\n",
    "        print(\"{} published {} papers adding up to {} pages\".format(author, val, pages))"
   ]
  }
 ],
 "metadata": {
  "kernelspec": {
   "display_name": "Python 3",
   "language": "python",
   "name": "python3"
  },
  "language_info": {
   "codemirror_mode": {
    "name": "ipython",
    "version": 3
   },
   "file_extension": ".py",
   "mimetype": "text/x-python",
   "name": "python",
   "nbconvert_exporter": "python",
   "pygments_lexer": "ipython3",
   "version": "3.4.0"
  }
 },
 "nbformat": 4,
 "nbformat_minor": 0
}
