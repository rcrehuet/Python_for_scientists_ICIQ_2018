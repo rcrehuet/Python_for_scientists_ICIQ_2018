{
 "cells": [
  {
   "cell_type": "markdown",
   "metadata": {},
   "source": [
    "# An iJulia notebook\n",
    "\n",
    "This notebook is meant to run with a Julia kernel, not a python kernel. Follow the instructions in the `Faster_than_python.ipynb` notebook on how to install Julia and setup the Jupyter to work with it.\n",
    "\n",
    "Everything is similar to Python."
   ]
  },
  {
   "cell_type": "code",
   "execution_count": 22,
   "metadata": {
    "collapsed": false
   },
   "outputs": [
    {
     "data": {
      "text/plain": [
       "27"
      ]
     },
     "execution_count": 22,
     "metadata": {},
     "output_type": "execute_result"
    }
   ],
   "source": [
    "3+4*6"
   ]
  },
  {
   "cell_type": "code",
   "execution_count": 23,
   "metadata": {
    "collapsed": false
   },
   "outputs": [
    {
     "data": {
      "text/plain": [
       "1792"
      ]
     },
     "execution_count": 23,
     "metadata": {},
     "output_type": "execute_result"
    }
   ],
   "source": [
    "b = 56*32\n",
    "b"
   ]
  },
  {
   "cell_type": "markdown",
   "metadata": {},
   "source": [
    "We can import python modules, and in particular numpy:"
   ]
  },
  {
   "cell_type": "code",
   "execution_count": 4,
   "metadata": {
    "collapsed": true
   },
   "outputs": [],
   "source": [
    "using PyCall\n",
    "@pyimport numpy as np"
   ]
  },
  {
   "cell_type": "code",
   "execution_count": 39,
   "metadata": {
    "collapsed": false
   },
   "outputs": [
    {
     "data": {
      "text/plain": [
       "sum2d_inv (generic function with 1 method)"
      ]
     },
     "execution_count": 39,
     "metadata": {},
     "output_type": "execute_result"
    }
   ],
   "source": [
    "function sum2d(arr)\n",
    "    M = size(arr, 1)\n",
    "    N = size(arr, 2)\n",
    "    result = 0.0\n",
    "    for i=1:M\n",
    "        for j=1:N\n",
    "            result += arr[i,j]\n",
    "        end\n",
    "    end\n",
    "    return result\n",
    "end\n",
    "# We also try a version where the dimensions are transversed in the reverse order. \n",
    "# We will test which of these two version is more efficient.\n",
    "function sum2d_inv(arr)\n",
    "    M = size(arr, 1)\n",
    "    N = size(arr, 2)\n",
    "    result = 0.0\n",
    "    for i=1:N #A change here\n",
    "        for j=1:M #A change here\n",
    "            result += arr[j,i] #A change here\n",
    "        end\n",
    "    end\n",
    "    return result\n",
    "end\n"
   ]
  },
  {
   "cell_type": "code",
   "execution_count": 29,
   "metadata": {
    "collapsed": false
   },
   "outputs": [
    {
     "data": {
      "text/plain": [
       "9999x999 Array{Int64,2}:\n",
       "    1  10000  19999  29998  39997  …  9949006  9959005  9969004  9979003\n",
       "    2  10001  20000  29999  39998     9949007  9959006  9969005  9979004\n",
       "    3  10002  20001  30000  39999     9949008  9959007  9969006  9979005\n",
       "    4  10003  20002  30001  40000     9949009  9959008  9969007  9979006\n",
       "    5  10004  20003  30002  40001     9949010  9959009  9969008  9979007\n",
       "    6  10005  20004  30003  40002  …  9949011  9959010  9969009  9979008\n",
       "    7  10006  20005  30004  40003     9949012  9959011  9969010  9979009\n",
       "    8  10007  20006  30005  40004     9949013  9959012  9969011  9979010\n",
       "    9  10008  20007  30006  40005     9949014  9959013  9969012  9979011\n",
       "   10  10009  20008  30007  40006     9949015  9959014  9969013  9979012\n",
       "   11  10010  20009  30008  40007  …  9949016  9959015  9969014  9979013\n",
       "   12  10011  20010  30009  40008     9949017  9959016  9969015  9979014\n",
       "   13  10012  20011  30010  40009     9949018  9959017  9969016  9979015\n",
       "    ⋮                              ⋱        ⋮                           \n",
       " 9988  19987  29986  39985  49984     9958993  9968992  9978991  9988990\n",
       " 9989  19988  29987  39986  49985     9958994  9968993  9978992  9988991\n",
       " 9990  19989  29988  39987  49986     9958995  9968994  9978993  9988992\n",
       " 9991  19990  29989  39988  49987  …  9958996  9968995  9978994  9988993\n",
       " 9992  19991  29990  39989  49988     9958997  9968996  9978995  9988994\n",
       " 9993  19992  29991  39990  49989     9958998  9968997  9978996  9988995\n",
       " 9994  19993  29992  39991  49990     9958999  9968998  9978997  9988996\n",
       " 9995  19994  29993  39992  49991     9959000  9968999  9978998  9988997\n",
       " 9996  19995  29994  39993  49992  …  9959001  9969000  9978999  9988998\n",
       " 9997  19996  29995  39994  49993     9959002  9969001  9979000  9988999\n",
       " 9998  19997  29996  39995  49994     9959003  9969002  9979001  9989000\n",
       " 9999  19998  29997  39996  49995     9959004  9969003  9979002  9989001"
      ]
     },
     "execution_count": 29,
     "metadata": {},
     "output_type": "execute_result"
    }
   ],
   "source": [
    "a=[1:9999*999]\n",
    "a=reshape(a,9999,999)"
   ]
  },
  {
   "cell_type": "markdown",
   "metadata": {},
   "source": [
    "Now we can time the function we have written. Remark that the first time we executed it gets compiled so it takes much longer. But from then on, the compiled version is used and execution is much faster."
   ]
  },
  {
   "cell_type": "code",
   "execution_count": 37,
   "metadata": {
    "collapsed": false
   },
   "outputs": [
    {
     "name": "stdout",
     "output_type": "stream",
     "text": [
      "elapsed time: 0.31893546 seconds (162120 bytes allocated)\n"
     ]
    },
    {
     "data": {
      "text/plain": [
       "4.9890075483501e13"
      ]
     },
     "execution_count": 37,
     "metadata": {},
     "output_type": "execute_result"
    }
   ],
   "source": [
    "@time sum2d(a)"
   ]
  },
  {
   "cell_type": "code",
   "execution_count": 38,
   "metadata": {
    "collapsed": false
   },
   "outputs": [
    {
     "name": "stdout",
     "output_type": "stream",
     "text": [
      "elapsed time: 0.072591354 seconds (96 bytes allocated)\n"
     ]
    },
    {
     "data": {
      "text/plain": [
       "4.9890075483501e13"
      ]
     },
     "execution_count": 38,
     "metadata": {},
     "output_type": "execute_result"
    }
   ],
   "source": [
    "@time sum2d(a)"
   ]
  },
  {
   "cell_type": "code",
   "execution_count": 40,
   "metadata": {
    "collapsed": false
   },
   "outputs": [
    {
     "name": "stdout",
     "output_type": "stream",
     "text": [
      "elapsed time: 0.302777959 seconds (162296 bytes allocated)\n"
     ]
    },
    {
     "data": {
      "text/plain": [
       "4.9890075483501e13"
      ]
     },
     "execution_count": 40,
     "metadata": {},
     "output_type": "execute_result"
    }
   ],
   "source": [
    "@time sum2d_inv(a)"
   ]
  },
  {
   "cell_type": "code",
   "execution_count": 41,
   "metadata": {
    "collapsed": false
   },
   "outputs": [
    {
     "name": "stdout",
     "output_type": "stream",
     "text": [
      "elapsed time: 0.022418074 seconds (96 bytes allocated)\n"
     ]
    },
    {
     "data": {
      "text/plain": [
       "4.9890075483501e13"
      ]
     },
     "execution_count": 41,
     "metadata": {},
     "output_type": "execute_result"
    }
   ],
   "source": [
    "@time sum2d_inv(a)"
   ]
  },
  {
   "cell_type": "markdown",
   "metadata": {},
   "source": [
    "As you can see this version is much faster: compare 0.072s with 0.022s. So for large matrices remember it is important to know how they are stored in memory so that they are acessed in this same order. As the elements are contiguous in memory, the processor can be much more efficient when accessing them."
   ]
  },
  {
   "cell_type": "code",
   "execution_count": null,
   "metadata": {
    "collapsed": true
   },
   "outputs": [],
   "source": []
  }
 ],
 "metadata": {
  "kernelspec": {
   "display_name": "Python 3",
   "language": "python",
   "name": "python3"
  },
  "language_info": {
   "codemirror_mode": {
    "name": "ipython",
    "version": 3
   },
   "file_extension": ".py",
   "mimetype": "text/x-python",
   "name": "python",
   "nbconvert_exporter": "python",
   "pygments_lexer": "ipython3",
   "version": "3.6.3"
  }
 },
 "nbformat": 4,
 "nbformat_minor": 2
}
