{
 "cells": [
  {
   "cell_type": "code",
   "execution_count": 1,
   "metadata": {},
   "outputs": [],
   "source": [
    "import os\n",
    "import time\n",
    "import threading\n",
    "import multiprocessing\n",
    " \n",
    "NUM_WORKERS = 4\n",
    " \n",
    "def only_sleep():\n",
    "    \"\"\" Do nothing, wait for a timer to expire \"\"\"\n",
    "    print(\"PID: %s, Process Name: %s, Thread Name: %s\" % (\n",
    "        os.getpid(),\n",
    "        multiprocessing.current_process().name,\n",
    "        threading.current_thread().name)\n",
    "    )\n",
    "    time.sleep(1)\n",
    " \n",
    " \n",
    "def crunch_numbers():\n",
    "    \"\"\" Do some computations \"\"\"\n",
    "    print(\"PID: %s, Process Name: %s, Thread Name: %s\" % (\n",
    "        os.getpid(),\n",
    "        multiprocessing.current_process().name,\n",
    "        threading.current_thread().name)\n",
    "    )\n",
    "    x = 0\n",
    "    while x < 10000000:\n",
    "        x += 1"
   ]
  },
  {
   "cell_type": "code",
   "execution_count": 2,
   "metadata": {},
   "outputs": [
    {
     "name": "stdout",
     "output_type": "stream",
     "text": [
      "PID: 30642, Process Name: MainProcess, Thread Name: MainThread\n",
      "PID: 30642, Process Name: MainProcess, Thread Name: MainThread\n",
      "PID: 30642, Process Name: MainProcess, Thread Name: MainThread\n",
      "PID: 30642, Process Name: MainProcess, Thread Name: MainThread\n",
      "Serial time= 4.005331039428711\n"
     ]
    }
   ],
   "source": [
    "## Run tasks serially\n",
    "start_time = time.time()\n",
    "for _ in range(NUM_WORKERS):\n",
    "    only_sleep()\n",
    "end_time = time.time()\n",
    "print(\"Serial time=\", end_time - start_time)"
   ]
  },
  {
   "cell_type": "code",
   "execution_count": 4,
   "metadata": {},
   "outputs": [
    {
     "name": "stdout",
     "output_type": "stream",
     "text": [
      "PID: 27866, Process Name: MainProcess, Thread Name: Thread-4\n",
      "PID: 27866, Process Name: MainProcess, Thread Name: Thread-5\n",
      "PID: 27866, Process Name: MainProcess, Thread Name: Thread-6\n",
      "PID: 27866, Process Name: MainProcess, Thread Name: Thread-7\n",
      "Threads time= 1.0042507648468018\n"
     ]
    }
   ],
   "source": [
    "# Run tasks using threads\n",
    "start_time = time.time()\n",
    "threads = [threading.Thread(target=only_sleep) for _ in range(NUM_WORKERS)]\n",
    "[thread.start() for thread in threads]\n",
    "[thread.join() for thread in threads]\n",
    "end_time = time.time()\n",
    " \n",
    "print(\"Threads time=\", end_time - start_time)"
   ]
  },
  {
   "cell_type": "code",
   "execution_count": 7,
   "metadata": {},
   "outputs": [
    {
     "name": "stdout",
     "output_type": "stream",
     "text": [
      "PID: 28139, Process Name: Process-6, Thread Name: MainThread\n",
      "PID: 28140, Process Name: Process-7, Thread Name: MainThread\n",
      "PID: 28142, Process Name: Process-8, Thread Name: MainThread\n",
      "PID: 28138, Process Name: Process-5, Thread Name: MainThread\n",
      "Parallel time= 1.0349993705749512\n"
     ]
    }
   ],
   "source": [
    "# Run tasks using processes\n",
    "start_time = time.time()\n",
    "processes = [multiprocessing.Process(target=only_sleep) for _ in range(NUM_WORKERS)]\n",
    "[process.start() for process in processes]\n",
    "[process.join() for process in processes]\n",
    "end_time = time.time()\n",
    " \n",
    "print(\"Parallel time=\", end_time - start_time)"
   ]
  },
  {
   "cell_type": "code",
   "execution_count": 9,
   "metadata": {},
   "outputs": [
    {
     "name": "stdout",
     "output_type": "stream",
     "text": [
      "PID: 27866, Process Name: MainProcess, Thread Name: MainThread\n",
      "PID: 27866, Process Name: MainProcess, Thread Name: MainThread\n",
      "PID: 27866, Process Name: MainProcess, Thread Name: MainThread\n",
      "PID: 27866, Process Name: MainProcess, Thread Name: MainThread\n",
      "Serial time= 1.8378472328186035\n",
      "\n",
      "PID: 27866, Process Name: MainProcess, Thread Name: Thread-12\n",
      "PID: 27866, Process Name: MainProcess, Thread Name: Thread-13\n",
      "PID: 27866, Process Name: MainProcess, Thread Name: Thread-14\n",
      "PID: 27866, Process Name: MainProcess, Thread Name: Thread-15\n",
      "Threads time= 2.7522053718566895\n",
      "\n",
      "PID: 28260, Process Name: Process-15, Thread Name: MainThread\n",
      "PID: 28262, Process Name: Process-16, Thread Name: MainThread\n",
      "PID: 28257, Process Name: Process-13, Thread Name: MainThread\n",
      "PID: 28258, Process Name: Process-14, Thread Name: MainThread\n",
      "Parallel time= 0.6293623447418213\n",
      "\n"
     ]
    }
   ],
   "source": [
    "start_time = time.time()\n",
    "for _ in range(NUM_WORKERS):\n",
    "    crunch_numbers()\n",
    "end_time = time.time()\n",
    " \n",
    "print(\"Serial time=\", end_time - start_time)\n",
    "print()\n",
    "\n",
    "start_time = time.time()\n",
    "threads = [threading.Thread(target=crunch_numbers) for _ in range(NUM_WORKERS)]\n",
    "[thread.start() for thread in threads]\n",
    "[thread.join() for thread in threads]\n",
    "end_time = time.time()\n",
    " \n",
    "print(\"Threads time=\", end_time - start_time)\n",
    "print() \n",
    " \n",
    "start_time = time.time()\n",
    "processes = [multiprocessing.Process(target=crunch_numbers) for _ in range(NUM_WORKERS)]\n",
    "[process.start() for process in processes]\n",
    "[process.join() for process in processes]\n",
    "end_time = time.time()\n",
    " \n",
    "print(\"Parallel time=\", end_time - start_time)\n",
    "print()"
   ]
  },
  {
   "cell_type": "code",
   "execution_count": 2,
   "metadata": {},
   "outputs": [],
   "source": [
    "import numpy as np\n",
    "import mdtraj as md\n",
    "import matplotlib.pyplot as plt\n",
    "import queue\n",
    "traj = {}"
   ]
  },
  {
   "cell_type": "code",
   "execution_count": 43,
   "metadata": {},
   "outputs": [
    {
     "name": "stdout",
     "output_type": "stream",
     "text": [
      "Serial time= 132.1322774887085\n"
     ]
    },
    {
     "data": {
      "text/plain": [
       "{14: <mdtraj.Trajectory with 36 frames, 4368 atoms, 518 residues, and unitcells at 0x7f1649239ef0>,\n",
       " 28: <mdtraj.Trajectory with 32 frames, 8731 atoms, 1036 residues, and unitcells at 0x7f163eb6c828>,\n",
       " 56: <mdtraj.Trajectory with 185 frames, 17462 atoms, 2072 residues, and unitcells at 0x7f163c4b4978>,\n",
       " 113: <mdtraj.Trajectory with 203 frames, 35251 atoms, 4181 residues, and unitcells at 0x7f16afb36128>}"
      ]
     },
     "execution_count": 43,
     "metadata": {},
     "output_type": "execute_result"
    }
   ],
   "source": [
    "start_time = time.time()\n",
    "#Only the new ones\n",
    "for nmolec in (28,14):\n",
    "    traj[nmolec]=md.load('/home/ramon/perdiu51/ariadna/{}/prod_140/output.xtc'.format(nmolec), \n",
    "            top='/home/ramon/perdiu51/ariadna/{}/prod_140/structure.pdb'.format(nmolec),\n",
    "                        stride=5)\n",
    "    # This is slow\n",
    "    #traj[nmolec] = traj[nmolec].remove_solvent()\n",
    "    #This is faster and also removes hydrogens\n",
    "    protein_atoms = traj[nmolec].top.select(\"protein and not type H\")\n",
    "    traj[nmolec] = traj[nmolec].atom_slice(protein_atoms)\n",
    "\n",
    "for nmolec in (56,113):\n",
    "    traj[nmolec]=md.load('/home/ramon/perdiu50/polyQ/{}/prod_140/output.xtc'.format(nmolec), \n",
    "            top='/home/ramon/perdiu50/polyQ/{}/prod_140/structure.pdb'.format(nmolec),\n",
    "                        stride=5)\n",
    "    # This is slow\n",
    "    #traj[nmolec] = traj[nmolec].remove_solvent()\n",
    "    #This is faster and also removes hydrogens\n",
    "    protein_atoms = traj[nmolec].top.select(\"protein and not type H\")\n",
    "    traj[nmolec] = traj[nmolec].atom_slice(protein_atoms)\n",
    "end_time = time.time()\n",
    "print(\"Serial time=\", end_time - start_time)\n",
    "traj"
   ]
  },
  {
   "cell_type": "code",
   "execution_count": 23,
   "metadata": {},
   "outputs": [],
   "source": [
    "def load_traj(dirname, nmol, queue):\n",
    "    \"\"\"\n",
    "    Load a trajectory and add it to a queue (so that it can run concurrently)\n",
    "    \"\"\"\n",
    "    print(\"PID: %s, Process Name: %s, Thread Name: %s\" % (\n",
    "    os.getpid(),\n",
    "    multiprocessing.current_process().name,\n",
    "    threading.current_thread().name))\n",
    "\n",
    "    t = md.load(dirname+'/{}/prod_140/output.xtc'.format(nmol),\n",
    "            top=dirname+'/{}/prod_140/structure.pdb'.format(nmol), stride=5)\n",
    "    protein_atoms = t.top.select(\"protein and not type H\")\n",
    "    t = t.atom_slice(protein_atoms)\n",
    "\n",
    "    q.put({nmol:t})\n",
    "    \n"
   ]
  },
  {
   "cell_type": "code",
   "execution_count": null,
   "metadata": {},
   "outputs": [],
   "source": [
    "traj = {}\n",
    "q = queue.Queue()\n",
    "threads= []\n",
    "start_time = time.time()\n",
    "threads.append(threading.Thread(target=load_traj, \n",
    "                 args=('/home/ramon/perdiu51/ariadna/',28, q)))\n",
    "threads.append(threading.Thread(target=load_traj, \n",
    "                 args=('/home/ramon/perdiu51/ariadna/',14, q)))\n",
    "threads.append(threading.Thread(target=load_traj, \n",
    "                 args=('/home/ramon/perdiu50/polyQ/',56, q)))\n",
    "threads.append(threading.Thread(target=load_traj, \n",
    "                 args=('/home/ramon/perdiu50/polyQ/',113, q)))\n",
    "[thread.start() for thread in threads]\n",
    "[thread.join() for thread in threads]\n",
    "end_time = time.time()\n",
    "print(\"Threaded time=\", end_time - start_time)\n",
    "while q:\n",
    "    traj.update(q.get())\n",
    "traj"
   ]
  },
  {
   "cell_type": "code",
   "execution_count": 10,
   "metadata": {},
   "outputs": [
    {
     "name": "stdout",
     "output_type": "stream",
     "text": [
      "PID: 30857, Process Name: Process-1, Thread Name: MainThread\n",
      "PID: 30860, Process Name: Process-2, Thread Name: MainThread\n",
      "PID: 30863, Process Name: Process-3, Thread Name: MainThread\n",
      "PID: 30866, Process Name: Process-4, Thread Name: MainThread\n"
     ]
    },
    {
     "name": "stderr",
     "output_type": "stream",
     "text": [
      "Process Process-3:\n",
      "Process Process-4:\n",
      "Process Process-2:\n",
      "Process Process-1:\n",
      "Traceback (most recent call last):\n",
      "Traceback (most recent call last):\n",
      "Traceback (most recent call last):\n",
      "Traceback (most recent call last):\n",
      "  File \"/home/ramon/anaconda3/lib/python3.6/multiprocessing/process.py\", line 261, in _bootstrap\n",
      "    util._exit_function()\n",
      "  File \"/home/ramon/anaconda3/lib/python3.6/multiprocessing/process.py\", line 261, in _bootstrap\n",
      "    util._exit_function()\n",
      "  File \"/home/ramon/anaconda3/lib/python3.6/multiprocessing/process.py\", line 261, in _bootstrap\n",
      "    util._exit_function()\n",
      "  File \"/home/ramon/anaconda3/lib/python3.6/multiprocessing/process.py\", line 261, in _bootstrap\n",
      "    util._exit_function()\n",
      "  File \"/home/ramon/anaconda3/lib/python3.6/multiprocessing/util.py\", line 322, in _exit_function\n",
      "    _run_finalizers()\n",
      "  File \"/home/ramon/anaconda3/lib/python3.6/multiprocessing/util.py\", line 322, in _exit_function\n",
      "    _run_finalizers()\n",
      "  File \"/home/ramon/anaconda3/lib/python3.6/multiprocessing/util.py\", line 322, in _exit_function\n",
      "    _run_finalizers()\n",
      "  File \"/home/ramon/anaconda3/lib/python3.6/multiprocessing/util.py\", line 322, in _exit_function\n",
      "    _run_finalizers()\n",
      "  File \"/home/ramon/anaconda3/lib/python3.6/multiprocessing/util.py\", line 262, in _run_finalizers\n",
      "    finalizer()\n",
      "  File \"/home/ramon/anaconda3/lib/python3.6/multiprocessing/util.py\", line 262, in _run_finalizers\n",
      "    finalizer()\n",
      "  File \"/home/ramon/anaconda3/lib/python3.6/multiprocessing/util.py\", line 262, in _run_finalizers\n",
      "    finalizer()\n",
      "  File \"/home/ramon/anaconda3/lib/python3.6/multiprocessing/util.py\", line 186, in __call__\n",
      "    res = self._callback(*self._args, **self._kwargs)\n",
      "  File \"/home/ramon/anaconda3/lib/python3.6/multiprocessing/util.py\", line 262, in _run_finalizers\n",
      "    finalizer()\n",
      "  File \"/home/ramon/anaconda3/lib/python3.6/multiprocessing/util.py\", line 186, in __call__\n",
      "    res = self._callback(*self._args, **self._kwargs)\n",
      "  File \"/home/ramon/anaconda3/lib/python3.6/multiprocessing/util.py\", line 186, in __call__\n",
      "    res = self._callback(*self._args, **self._kwargs)\n",
      "  File \"/home/ramon/anaconda3/lib/python3.6/multiprocessing/queues.py\", line 191, in _finalize_join\n",
      "    thread.join()\n",
      "  File \"/home/ramon/anaconda3/lib/python3.6/multiprocessing/util.py\", line 186, in __call__\n",
      "    res = self._callback(*self._args, **self._kwargs)\n",
      "  File \"/home/ramon/anaconda3/lib/python3.6/multiprocessing/queues.py\", line 191, in _finalize_join\n",
      "    thread.join()\n",
      "  File \"/home/ramon/anaconda3/lib/python3.6/multiprocessing/queues.py\", line 191, in _finalize_join\n",
      "    thread.join()\n",
      "  File \"/home/ramon/anaconda3/lib/python3.6/threading.py\", line 1056, in join\n",
      "    self._wait_for_tstate_lock()\n",
      "  File \"/home/ramon/anaconda3/lib/python3.6/multiprocessing/queues.py\", line 191, in _finalize_join\n",
      "    thread.join()\n",
      "  File \"/home/ramon/anaconda3/lib/python3.6/threading.py\", line 1056, in join\n",
      "    self._wait_for_tstate_lock()\n",
      "  File \"/home/ramon/anaconda3/lib/python3.6/threading.py\", line 1056, in join\n",
      "    self._wait_for_tstate_lock()\n",
      "  File \"/home/ramon/anaconda3/lib/python3.6/threading.py\", line 1072, in _wait_for_tstate_lock\n",
      "    elif lock.acquire(block, timeout):\n",
      "  File \"/home/ramon/anaconda3/lib/python3.6/threading.py\", line 1056, in join\n",
      "    self._wait_for_tstate_lock()\n",
      "  File \"/home/ramon/anaconda3/lib/python3.6/threading.py\", line 1072, in _wait_for_tstate_lock\n",
      "    elif lock.acquire(block, timeout):\n",
      "KeyboardInterrupt\n",
      "  File \"/home/ramon/anaconda3/lib/python3.6/threading.py\", line 1072, in _wait_for_tstate_lock\n",
      "    elif lock.acquire(block, timeout):\n",
      "  File \"/home/ramon/anaconda3/lib/python3.6/threading.py\", line 1072, in _wait_for_tstate_lock\n",
      "    elif lock.acquire(block, timeout):\n",
      "KeyboardInterrupt\n",
      "KeyboardInterrupt\n",
      "KeyboardInterrupt\n"
     ]
    },
    {
     "ename": "KeyboardInterrupt",
     "evalue": "",
     "output_type": "error",
     "traceback": [
      "\u001b[0;31m---------------------------------------------------------------------------\u001b[0m",
      "\u001b[0;31mKeyboardInterrupt\u001b[0m                         Traceback (most recent call last)",
      "\u001b[0;32m<ipython-input-10-ad7442e7174a>\u001b[0m in \u001b[0;36m<module>\u001b[0;34m()\u001b[0m\n\u001b[1;32m     13\u001b[0m                  args=('/home/ramon/perdiu50/polyQ/',113, q)))\n\u001b[1;32m     14\u001b[0m \u001b[0;34m[\u001b[0m\u001b[0mprocess\u001b[0m\u001b[0;34m.\u001b[0m\u001b[0mstart\u001b[0m\u001b[0;34m(\u001b[0m\u001b[0;34m)\u001b[0m \u001b[0;32mfor\u001b[0m \u001b[0mprocess\u001b[0m \u001b[0;32min\u001b[0m \u001b[0mprocesses\u001b[0m\u001b[0;34m]\u001b[0m\u001b[0;34m\u001b[0m\u001b[0m\n\u001b[0;32m---> 15\u001b[0;31m \u001b[0;34m[\u001b[0m\u001b[0mprocess\u001b[0m\u001b[0;34m.\u001b[0m\u001b[0mjoin\u001b[0m\u001b[0;34m(\u001b[0m\u001b[0;34m)\u001b[0m \u001b[0;32mfor\u001b[0m \u001b[0mprocess\u001b[0m \u001b[0;32min\u001b[0m \u001b[0mprocesses\u001b[0m\u001b[0;34m]\u001b[0m\u001b[0;34m\u001b[0m\u001b[0m\n\u001b[0m\u001b[1;32m     16\u001b[0m \u001b[0mend_time\u001b[0m \u001b[0;34m=\u001b[0m \u001b[0mtime\u001b[0m\u001b[0;34m.\u001b[0m\u001b[0mtime\u001b[0m\u001b[0;34m(\u001b[0m\u001b[0;34m)\u001b[0m\u001b[0;34m\u001b[0m\u001b[0m\n\u001b[1;32m     17\u001b[0m \u001b[0mprint\u001b[0m\u001b[0;34m(\u001b[0m\u001b[0;34m\"Processes time=\"\u001b[0m\u001b[0;34m,\u001b[0m \u001b[0mend_time\u001b[0m \u001b[0;34m-\u001b[0m \u001b[0mstart_time\u001b[0m\u001b[0;34m)\u001b[0m\u001b[0;34m\u001b[0m\u001b[0m\n",
      "\u001b[0;32m<ipython-input-10-ad7442e7174a>\u001b[0m in \u001b[0;36m<listcomp>\u001b[0;34m(.0)\u001b[0m\n\u001b[1;32m     13\u001b[0m                  args=('/home/ramon/perdiu50/polyQ/',113, q)))\n\u001b[1;32m     14\u001b[0m \u001b[0;34m[\u001b[0m\u001b[0mprocess\u001b[0m\u001b[0;34m.\u001b[0m\u001b[0mstart\u001b[0m\u001b[0;34m(\u001b[0m\u001b[0;34m)\u001b[0m \u001b[0;32mfor\u001b[0m \u001b[0mprocess\u001b[0m \u001b[0;32min\u001b[0m \u001b[0mprocesses\u001b[0m\u001b[0;34m]\u001b[0m\u001b[0;34m\u001b[0m\u001b[0m\n\u001b[0;32m---> 15\u001b[0;31m \u001b[0;34m[\u001b[0m\u001b[0mprocess\u001b[0m\u001b[0;34m.\u001b[0m\u001b[0mjoin\u001b[0m\u001b[0;34m(\u001b[0m\u001b[0;34m)\u001b[0m \u001b[0;32mfor\u001b[0m \u001b[0mprocess\u001b[0m \u001b[0;32min\u001b[0m \u001b[0mprocesses\u001b[0m\u001b[0;34m]\u001b[0m\u001b[0;34m\u001b[0m\u001b[0m\n\u001b[0m\u001b[1;32m     16\u001b[0m \u001b[0mend_time\u001b[0m \u001b[0;34m=\u001b[0m \u001b[0mtime\u001b[0m\u001b[0;34m.\u001b[0m\u001b[0mtime\u001b[0m\u001b[0;34m(\u001b[0m\u001b[0;34m)\u001b[0m\u001b[0;34m\u001b[0m\u001b[0m\n\u001b[1;32m     17\u001b[0m \u001b[0mprint\u001b[0m\u001b[0;34m(\u001b[0m\u001b[0;34m\"Processes time=\"\u001b[0m\u001b[0;34m,\u001b[0m \u001b[0mend_time\u001b[0m \u001b[0;34m-\u001b[0m \u001b[0mstart_time\u001b[0m\u001b[0;34m)\u001b[0m\u001b[0;34m\u001b[0m\u001b[0m\n",
      "\u001b[0;32m~/anaconda3/lib/python3.6/multiprocessing/process.py\u001b[0m in \u001b[0;36mjoin\u001b[0;34m(self, timeout)\u001b[0m\n\u001b[1;32m    122\u001b[0m         \u001b[0;32massert\u001b[0m \u001b[0mself\u001b[0m\u001b[0;34m.\u001b[0m\u001b[0m_parent_pid\u001b[0m \u001b[0;34m==\u001b[0m \u001b[0mos\u001b[0m\u001b[0;34m.\u001b[0m\u001b[0mgetpid\u001b[0m\u001b[0;34m(\u001b[0m\u001b[0;34m)\u001b[0m\u001b[0;34m,\u001b[0m \u001b[0;34m'can only join a child process'\u001b[0m\u001b[0;34m\u001b[0m\u001b[0m\n\u001b[1;32m    123\u001b[0m         \u001b[0;32massert\u001b[0m \u001b[0mself\u001b[0m\u001b[0;34m.\u001b[0m\u001b[0m_popen\u001b[0m \u001b[0;32mis\u001b[0m \u001b[0;32mnot\u001b[0m \u001b[0;32mNone\u001b[0m\u001b[0;34m,\u001b[0m \u001b[0;34m'can only join a started process'\u001b[0m\u001b[0;34m\u001b[0m\u001b[0m\n\u001b[0;32m--> 124\u001b[0;31m         \u001b[0mres\u001b[0m \u001b[0;34m=\u001b[0m \u001b[0mself\u001b[0m\u001b[0;34m.\u001b[0m\u001b[0m_popen\u001b[0m\u001b[0;34m.\u001b[0m\u001b[0mwait\u001b[0m\u001b[0;34m(\u001b[0m\u001b[0mtimeout\u001b[0m\u001b[0;34m)\u001b[0m\u001b[0;34m\u001b[0m\u001b[0m\n\u001b[0m\u001b[1;32m    125\u001b[0m         \u001b[0;32mif\u001b[0m \u001b[0mres\u001b[0m \u001b[0;32mis\u001b[0m \u001b[0;32mnot\u001b[0m \u001b[0;32mNone\u001b[0m\u001b[0;34m:\u001b[0m\u001b[0;34m\u001b[0m\u001b[0m\n\u001b[1;32m    126\u001b[0m             \u001b[0m_children\u001b[0m\u001b[0;34m.\u001b[0m\u001b[0mdiscard\u001b[0m\u001b[0;34m(\u001b[0m\u001b[0mself\u001b[0m\u001b[0;34m)\u001b[0m\u001b[0;34m\u001b[0m\u001b[0m\n",
      "\u001b[0;32m~/anaconda3/lib/python3.6/multiprocessing/popen_fork.py\u001b[0m in \u001b[0;36mwait\u001b[0;34m(self, timeout)\u001b[0m\n\u001b[1;32m     49\u001b[0m                     \u001b[0;32mreturn\u001b[0m \u001b[0;32mNone\u001b[0m\u001b[0;34m\u001b[0m\u001b[0m\n\u001b[1;32m     50\u001b[0m             \u001b[0;31m# This shouldn't block if wait() returned successfully.\u001b[0m\u001b[0;34m\u001b[0m\u001b[0;34m\u001b[0m\u001b[0m\n\u001b[0;32m---> 51\u001b[0;31m             \u001b[0;32mreturn\u001b[0m \u001b[0mself\u001b[0m\u001b[0;34m.\u001b[0m\u001b[0mpoll\u001b[0m\u001b[0;34m(\u001b[0m\u001b[0mos\u001b[0m\u001b[0;34m.\u001b[0m\u001b[0mWNOHANG\u001b[0m \u001b[0;32mif\u001b[0m \u001b[0mtimeout\u001b[0m \u001b[0;34m==\u001b[0m \u001b[0;36m0.0\u001b[0m \u001b[0;32melse\u001b[0m \u001b[0;36m0\u001b[0m\u001b[0;34m)\u001b[0m\u001b[0;34m\u001b[0m\u001b[0m\n\u001b[0m\u001b[1;32m     52\u001b[0m         \u001b[0;32mreturn\u001b[0m \u001b[0mself\u001b[0m\u001b[0;34m.\u001b[0m\u001b[0mreturncode\u001b[0m\u001b[0;34m\u001b[0m\u001b[0m\n\u001b[1;32m     53\u001b[0m \u001b[0;34m\u001b[0m\u001b[0m\n",
      "\u001b[0;32m~/anaconda3/lib/python3.6/multiprocessing/popen_fork.py\u001b[0m in \u001b[0;36mpoll\u001b[0;34m(self, flag)\u001b[0m\n\u001b[1;32m     27\u001b[0m             \u001b[0;32mwhile\u001b[0m \u001b[0;32mTrue\u001b[0m\u001b[0;34m:\u001b[0m\u001b[0;34m\u001b[0m\u001b[0m\n\u001b[1;32m     28\u001b[0m                 \u001b[0;32mtry\u001b[0m\u001b[0;34m:\u001b[0m\u001b[0;34m\u001b[0m\u001b[0m\n\u001b[0;32m---> 29\u001b[0;31m                     \u001b[0mpid\u001b[0m\u001b[0;34m,\u001b[0m \u001b[0msts\u001b[0m \u001b[0;34m=\u001b[0m \u001b[0mos\u001b[0m\u001b[0;34m.\u001b[0m\u001b[0mwaitpid\u001b[0m\u001b[0;34m(\u001b[0m\u001b[0mself\u001b[0m\u001b[0;34m.\u001b[0m\u001b[0mpid\u001b[0m\u001b[0;34m,\u001b[0m \u001b[0mflag\u001b[0m\u001b[0;34m)\u001b[0m\u001b[0;34m\u001b[0m\u001b[0m\n\u001b[0m\u001b[1;32m     30\u001b[0m                 \u001b[0;32mexcept\u001b[0m \u001b[0mOSError\u001b[0m \u001b[0;32mas\u001b[0m \u001b[0me\u001b[0m\u001b[0;34m:\u001b[0m\u001b[0;34m\u001b[0m\u001b[0m\n\u001b[1;32m     31\u001b[0m                     \u001b[0;31m# Child process not yet created. See #1731717\u001b[0m\u001b[0;34m\u001b[0m\u001b[0;34m\u001b[0m\u001b[0m\n",
      "\u001b[0;31mKeyboardInterrupt\u001b[0m: "
     ]
    }
   ],
   "source": [
    "traj = {}\n",
    "q = multiprocessing.Queue()\n",
    "processes= []\n",
    "start_time = time.time()\n",
    "\n",
    "processes.append(multiprocessing.Process(target=load_traj, \n",
    "                 args=('/home/ramon/perdiu51/ariadna/',28, q)))\n",
    "processes.append(multiprocessing.Process(target=load_traj, \n",
    "                 args=('/home/ramon/perdiu51/ariadna/',14, q)))\n",
    "processes.append(multiprocessing.Process(target=load_traj, \n",
    "                 args=('/home/ramon/perdiu50/polyQ/',56, q)))\n",
    "processes.append(multiprocessing.Process(target=load_traj, \n",
    "                 args=('/home/ramon/perdiu50/polyQ/',113, q)))\n",
    "[process.start() for process in processes]\n",
    "[process.join() for process in processes]\n",
    "end_time = time.time()\n",
    "print(\"Processes time=\", end_time - start_time)\n",
    "traj.update(q.get())\n",
    "traj"
   ]
  },
  {
   "cell_type": "code",
   "execution_count": 5,
   "metadata": {},
   "outputs": [
    {
     "ename": "KeyboardInterrupt",
     "evalue": "",
     "output_type": "error",
     "traceback": [
      "\u001b[0;31m---------------------------------------------------------------------------\u001b[0m",
      "\u001b[0;31mKeyboardInterrupt\u001b[0m                         Traceback (most recent call last)",
      "\u001b[0;32m<ipython-input-5-4757ef9e0ee6>\u001b[0m in \u001b[0;36m<module>\u001b[0;34m()\u001b[0m\n\u001b[1;32m      9\u001b[0m \u001b[0;34m\u001b[0m\u001b[0m\n\u001b[1;32m     10\u001b[0m \u001b[0;32mwhile\u001b[0m \u001b[0mresults\u001b[0m\u001b[0;34m:\u001b[0m\u001b[0;34m\u001b[0m\u001b[0m\n\u001b[0;32m---> 11\u001b[0;31m     \u001b[0mtraj\u001b[0m\u001b[0;34m.\u001b[0m\u001b[0mupdate\u001b[0m\u001b[0;34m(\u001b[0m\u001b[0mresults\u001b[0m\u001b[0;34m.\u001b[0m\u001b[0mget\u001b[0m\u001b[0;34m(\u001b[0m\u001b[0;34m)\u001b[0m\u001b[0;34m)\u001b[0m\u001b[0;34m\u001b[0m\u001b[0m\n\u001b[0m\u001b[1;32m     12\u001b[0m \u001b[0mend_time\u001b[0m \u001b[0;34m=\u001b[0m \u001b[0mtime\u001b[0m\u001b[0;34m.\u001b[0m\u001b[0mtime\u001b[0m\u001b[0;34m(\u001b[0m\u001b[0;34m)\u001b[0m\u001b[0;34m\u001b[0m\u001b[0m\n\u001b[1;32m     13\u001b[0m \u001b[0mprint\u001b[0m\u001b[0;34m(\u001b[0m\u001b[0;34m\"Processes time=\"\u001b[0m\u001b[0;34m,\u001b[0m \u001b[0mend_time\u001b[0m \u001b[0;34m-\u001b[0m \u001b[0mstart_time\u001b[0m\u001b[0;34m)\u001b[0m\u001b[0;34m\u001b[0m\u001b[0m\n",
      "\u001b[0;32m~/anaconda3/lib/python3.6/multiprocessing/pool.py\u001b[0m in \u001b[0;36mget\u001b[0;34m(self, timeout)\u001b[0m\n\u001b[1;32m    636\u001b[0m \u001b[0;34m\u001b[0m\u001b[0m\n\u001b[1;32m    637\u001b[0m     \u001b[0;32mdef\u001b[0m \u001b[0mget\u001b[0m\u001b[0;34m(\u001b[0m\u001b[0mself\u001b[0m\u001b[0;34m,\u001b[0m \u001b[0mtimeout\u001b[0m\u001b[0;34m=\u001b[0m\u001b[0;32mNone\u001b[0m\u001b[0;34m)\u001b[0m\u001b[0;34m:\u001b[0m\u001b[0;34m\u001b[0m\u001b[0m\n\u001b[0;32m--> 638\u001b[0;31m         \u001b[0mself\u001b[0m\u001b[0;34m.\u001b[0m\u001b[0mwait\u001b[0m\u001b[0;34m(\u001b[0m\u001b[0mtimeout\u001b[0m\u001b[0;34m)\u001b[0m\u001b[0;34m\u001b[0m\u001b[0m\n\u001b[0m\u001b[1;32m    639\u001b[0m         \u001b[0;32mif\u001b[0m \u001b[0;32mnot\u001b[0m \u001b[0mself\u001b[0m\u001b[0;34m.\u001b[0m\u001b[0mready\u001b[0m\u001b[0;34m(\u001b[0m\u001b[0;34m)\u001b[0m\u001b[0;34m:\u001b[0m\u001b[0;34m\u001b[0m\u001b[0m\n\u001b[1;32m    640\u001b[0m             \u001b[0;32mraise\u001b[0m \u001b[0mTimeoutError\u001b[0m\u001b[0;34m\u001b[0m\u001b[0m\n",
      "\u001b[0;32m~/anaconda3/lib/python3.6/multiprocessing/pool.py\u001b[0m in \u001b[0;36mwait\u001b[0;34m(self, timeout)\u001b[0m\n\u001b[1;32m    633\u001b[0m \u001b[0;34m\u001b[0m\u001b[0m\n\u001b[1;32m    634\u001b[0m     \u001b[0;32mdef\u001b[0m \u001b[0mwait\u001b[0m\u001b[0;34m(\u001b[0m\u001b[0mself\u001b[0m\u001b[0;34m,\u001b[0m \u001b[0mtimeout\u001b[0m\u001b[0;34m=\u001b[0m\u001b[0;32mNone\u001b[0m\u001b[0;34m)\u001b[0m\u001b[0;34m:\u001b[0m\u001b[0;34m\u001b[0m\u001b[0m\n\u001b[0;32m--> 635\u001b[0;31m         \u001b[0mself\u001b[0m\u001b[0;34m.\u001b[0m\u001b[0m_event\u001b[0m\u001b[0;34m.\u001b[0m\u001b[0mwait\u001b[0m\u001b[0;34m(\u001b[0m\u001b[0mtimeout\u001b[0m\u001b[0;34m)\u001b[0m\u001b[0;34m\u001b[0m\u001b[0m\n\u001b[0m\u001b[1;32m    636\u001b[0m \u001b[0;34m\u001b[0m\u001b[0m\n\u001b[1;32m    637\u001b[0m     \u001b[0;32mdef\u001b[0m \u001b[0mget\u001b[0m\u001b[0;34m(\u001b[0m\u001b[0mself\u001b[0m\u001b[0;34m,\u001b[0m \u001b[0mtimeout\u001b[0m\u001b[0;34m=\u001b[0m\u001b[0;32mNone\u001b[0m\u001b[0;34m)\u001b[0m\u001b[0;34m:\u001b[0m\u001b[0;34m\u001b[0m\u001b[0m\n",
      "\u001b[0;32m~/anaconda3/lib/python3.6/threading.py\u001b[0m in \u001b[0;36mwait\u001b[0;34m(self, timeout)\u001b[0m\n\u001b[1;32m    549\u001b[0m             \u001b[0msignaled\u001b[0m \u001b[0;34m=\u001b[0m \u001b[0mself\u001b[0m\u001b[0;34m.\u001b[0m\u001b[0m_flag\u001b[0m\u001b[0;34m\u001b[0m\u001b[0m\n\u001b[1;32m    550\u001b[0m             \u001b[0;32mif\u001b[0m \u001b[0;32mnot\u001b[0m \u001b[0msignaled\u001b[0m\u001b[0;34m:\u001b[0m\u001b[0;34m\u001b[0m\u001b[0m\n\u001b[0;32m--> 551\u001b[0;31m                 \u001b[0msignaled\u001b[0m \u001b[0;34m=\u001b[0m \u001b[0mself\u001b[0m\u001b[0;34m.\u001b[0m\u001b[0m_cond\u001b[0m\u001b[0;34m.\u001b[0m\u001b[0mwait\u001b[0m\u001b[0;34m(\u001b[0m\u001b[0mtimeout\u001b[0m\u001b[0;34m)\u001b[0m\u001b[0;34m\u001b[0m\u001b[0m\n\u001b[0m\u001b[1;32m    552\u001b[0m             \u001b[0;32mreturn\u001b[0m \u001b[0msignaled\u001b[0m\u001b[0;34m\u001b[0m\u001b[0m\n\u001b[1;32m    553\u001b[0m \u001b[0;34m\u001b[0m\u001b[0m\n",
      "\u001b[0;32m~/anaconda3/lib/python3.6/threading.py\u001b[0m in \u001b[0;36mwait\u001b[0;34m(self, timeout)\u001b[0m\n\u001b[1;32m    293\u001b[0m         \u001b[0;32mtry\u001b[0m\u001b[0;34m:\u001b[0m    \u001b[0;31m# restore state no matter what (e.g., KeyboardInterrupt)\u001b[0m\u001b[0;34m\u001b[0m\u001b[0m\n\u001b[1;32m    294\u001b[0m             \u001b[0;32mif\u001b[0m \u001b[0mtimeout\u001b[0m \u001b[0;32mis\u001b[0m \u001b[0;32mNone\u001b[0m\u001b[0;34m:\u001b[0m\u001b[0;34m\u001b[0m\u001b[0m\n\u001b[0;32m--> 295\u001b[0;31m                 \u001b[0mwaiter\u001b[0m\u001b[0;34m.\u001b[0m\u001b[0macquire\u001b[0m\u001b[0;34m(\u001b[0m\u001b[0;34m)\u001b[0m\u001b[0;34m\u001b[0m\u001b[0m\n\u001b[0m\u001b[1;32m    296\u001b[0m                 \u001b[0mgotit\u001b[0m \u001b[0;34m=\u001b[0m \u001b[0;32mTrue\u001b[0m\u001b[0;34m\u001b[0m\u001b[0m\n\u001b[1;32m    297\u001b[0m             \u001b[0;32melse\u001b[0m\u001b[0;34m:\u001b[0m\u001b[0;34m\u001b[0m\u001b[0m\n",
      "\u001b[0;31mKeyboardInterrupt\u001b[0m: "
     ]
    }
   ],
   "source": [
    "traj = {}\n",
    "start_time = time.time()\n",
    "argslist = [('/home/ramon/perdiu51/ariadna/',28),\n",
    "           ('/home/ramon/perdiu51/ariadna/',14),\n",
    "           ('/home/ramon/perdiu50/polyQ/',56),\n",
    "           ('/home/ramon/perdiu50/polyQ/',113)]\n",
    "with multiprocessing.Pool(processes=4) as pool:\n",
    "    results = pool.map_async(load_traj2, argslist)\n",
    "\n",
    "while results:\n",
    "    traj.update(results.get())\n",
    "end_time = time.time()\n",
    "print(\"Processes time=\", end_time - start_time)\n",
    "traj"
   ]
  },
  {
   "cell_type": "code",
   "execution_count": 11,
   "metadata": {},
   "outputs": [
    {
     "ename": "KeyboardInterrupt",
     "evalue": "",
     "output_type": "error",
     "traceback": [
      "\u001b[0;31m---------------------------------------------------------------------------\u001b[0m",
      "\u001b[0;31mKeyboardInterrupt\u001b[0m                         Traceback (most recent call last)",
      "\u001b[0;32m<ipython-input-11-4cea3f0b1a5a>\u001b[0m in \u001b[0;36m<module>\u001b[0;34m()\u001b[0m\n\u001b[1;32m      9\u001b[0m \u001b[0;34m\u001b[0m\u001b[0m\n\u001b[1;32m     10\u001b[0m \u001b[0;32mwhile\u001b[0m \u001b[0mresults\u001b[0m\u001b[0;34m:\u001b[0m\u001b[0;34m\u001b[0m\u001b[0m\n\u001b[0;32m---> 11\u001b[0;31m     \u001b[0mtraj\u001b[0m\u001b[0;34m.\u001b[0m\u001b[0mupdate\u001b[0m\u001b[0;34m(\u001b[0m\u001b[0mresults\u001b[0m\u001b[0;34m.\u001b[0m\u001b[0mget\u001b[0m\u001b[0;34m(\u001b[0m\u001b[0;34m)\u001b[0m\u001b[0;34m)\u001b[0m\u001b[0;34m\u001b[0m\u001b[0m\n\u001b[0m\u001b[1;32m     12\u001b[0m \u001b[0mend_time\u001b[0m \u001b[0;34m=\u001b[0m \u001b[0mtime\u001b[0m\u001b[0;34m.\u001b[0m\u001b[0mtime\u001b[0m\u001b[0;34m(\u001b[0m\u001b[0;34m)\u001b[0m\u001b[0;34m\u001b[0m\u001b[0m\n\u001b[1;32m     13\u001b[0m \u001b[0mprint\u001b[0m\u001b[0;34m(\u001b[0m\u001b[0;34m\"Processes time=\"\u001b[0m\u001b[0;34m,\u001b[0m \u001b[0mend_time\u001b[0m \u001b[0;34m-\u001b[0m \u001b[0mstart_time\u001b[0m\u001b[0;34m)\u001b[0m\u001b[0;34m\u001b[0m\u001b[0m\n",
      "\u001b[0;32m~/anaconda3/lib/python3.6/multiprocessing/pool.py\u001b[0m in \u001b[0;36mget\u001b[0;34m(self, timeout)\u001b[0m\n\u001b[1;32m    636\u001b[0m \u001b[0;34m\u001b[0m\u001b[0m\n\u001b[1;32m    637\u001b[0m     \u001b[0;32mdef\u001b[0m \u001b[0mget\u001b[0m\u001b[0;34m(\u001b[0m\u001b[0mself\u001b[0m\u001b[0;34m,\u001b[0m \u001b[0mtimeout\u001b[0m\u001b[0;34m=\u001b[0m\u001b[0;32mNone\u001b[0m\u001b[0;34m)\u001b[0m\u001b[0;34m:\u001b[0m\u001b[0;34m\u001b[0m\u001b[0m\n\u001b[0;32m--> 638\u001b[0;31m         \u001b[0mself\u001b[0m\u001b[0;34m.\u001b[0m\u001b[0mwait\u001b[0m\u001b[0;34m(\u001b[0m\u001b[0mtimeout\u001b[0m\u001b[0;34m)\u001b[0m\u001b[0;34m\u001b[0m\u001b[0m\n\u001b[0m\u001b[1;32m    639\u001b[0m         \u001b[0;32mif\u001b[0m \u001b[0;32mnot\u001b[0m \u001b[0mself\u001b[0m\u001b[0;34m.\u001b[0m\u001b[0mready\u001b[0m\u001b[0;34m(\u001b[0m\u001b[0;34m)\u001b[0m\u001b[0;34m:\u001b[0m\u001b[0;34m\u001b[0m\u001b[0m\n\u001b[1;32m    640\u001b[0m             \u001b[0;32mraise\u001b[0m \u001b[0mTimeoutError\u001b[0m\u001b[0;34m\u001b[0m\u001b[0m\n",
      "\u001b[0;32m~/anaconda3/lib/python3.6/multiprocessing/pool.py\u001b[0m in \u001b[0;36mwait\u001b[0;34m(self, timeout)\u001b[0m\n\u001b[1;32m    633\u001b[0m \u001b[0;34m\u001b[0m\u001b[0m\n\u001b[1;32m    634\u001b[0m     \u001b[0;32mdef\u001b[0m \u001b[0mwait\u001b[0m\u001b[0;34m(\u001b[0m\u001b[0mself\u001b[0m\u001b[0;34m,\u001b[0m \u001b[0mtimeout\u001b[0m\u001b[0;34m=\u001b[0m\u001b[0;32mNone\u001b[0m\u001b[0;34m)\u001b[0m\u001b[0;34m:\u001b[0m\u001b[0;34m\u001b[0m\u001b[0m\n\u001b[0;32m--> 635\u001b[0;31m         \u001b[0mself\u001b[0m\u001b[0;34m.\u001b[0m\u001b[0m_event\u001b[0m\u001b[0;34m.\u001b[0m\u001b[0mwait\u001b[0m\u001b[0;34m(\u001b[0m\u001b[0mtimeout\u001b[0m\u001b[0;34m)\u001b[0m\u001b[0;34m\u001b[0m\u001b[0m\n\u001b[0m\u001b[1;32m    636\u001b[0m \u001b[0;34m\u001b[0m\u001b[0m\n\u001b[1;32m    637\u001b[0m     \u001b[0;32mdef\u001b[0m \u001b[0mget\u001b[0m\u001b[0;34m(\u001b[0m\u001b[0mself\u001b[0m\u001b[0;34m,\u001b[0m \u001b[0mtimeout\u001b[0m\u001b[0;34m=\u001b[0m\u001b[0;32mNone\u001b[0m\u001b[0;34m)\u001b[0m\u001b[0;34m:\u001b[0m\u001b[0;34m\u001b[0m\u001b[0m\n",
      "\u001b[0;32m~/anaconda3/lib/python3.6/threading.py\u001b[0m in \u001b[0;36mwait\u001b[0;34m(self, timeout)\u001b[0m\n\u001b[1;32m    549\u001b[0m             \u001b[0msignaled\u001b[0m \u001b[0;34m=\u001b[0m \u001b[0mself\u001b[0m\u001b[0;34m.\u001b[0m\u001b[0m_flag\u001b[0m\u001b[0;34m\u001b[0m\u001b[0m\n\u001b[1;32m    550\u001b[0m             \u001b[0;32mif\u001b[0m \u001b[0;32mnot\u001b[0m \u001b[0msignaled\u001b[0m\u001b[0;34m:\u001b[0m\u001b[0;34m\u001b[0m\u001b[0m\n\u001b[0;32m--> 551\u001b[0;31m                 \u001b[0msignaled\u001b[0m \u001b[0;34m=\u001b[0m \u001b[0mself\u001b[0m\u001b[0;34m.\u001b[0m\u001b[0m_cond\u001b[0m\u001b[0;34m.\u001b[0m\u001b[0mwait\u001b[0m\u001b[0;34m(\u001b[0m\u001b[0mtimeout\u001b[0m\u001b[0;34m)\u001b[0m\u001b[0;34m\u001b[0m\u001b[0m\n\u001b[0m\u001b[1;32m    552\u001b[0m             \u001b[0;32mreturn\u001b[0m \u001b[0msignaled\u001b[0m\u001b[0;34m\u001b[0m\u001b[0m\n\u001b[1;32m    553\u001b[0m \u001b[0;34m\u001b[0m\u001b[0m\n",
      "\u001b[0;32m~/anaconda3/lib/python3.6/threading.py\u001b[0m in \u001b[0;36mwait\u001b[0;34m(self, timeout)\u001b[0m\n\u001b[1;32m    293\u001b[0m         \u001b[0;32mtry\u001b[0m\u001b[0;34m:\u001b[0m    \u001b[0;31m# restore state no matter what (e.g., KeyboardInterrupt)\u001b[0m\u001b[0;34m\u001b[0m\u001b[0m\n\u001b[1;32m    294\u001b[0m             \u001b[0;32mif\u001b[0m \u001b[0mtimeout\u001b[0m \u001b[0;32mis\u001b[0m \u001b[0;32mNone\u001b[0m\u001b[0;34m:\u001b[0m\u001b[0;34m\u001b[0m\u001b[0m\n\u001b[0;32m--> 295\u001b[0;31m                 \u001b[0mwaiter\u001b[0m\u001b[0;34m.\u001b[0m\u001b[0macquire\u001b[0m\u001b[0;34m(\u001b[0m\u001b[0;34m)\u001b[0m\u001b[0;34m\u001b[0m\u001b[0m\n\u001b[0m\u001b[1;32m    296\u001b[0m                 \u001b[0mgotit\u001b[0m \u001b[0;34m=\u001b[0m \u001b[0;32mTrue\u001b[0m\u001b[0;34m\u001b[0m\u001b[0m\n\u001b[1;32m    297\u001b[0m             \u001b[0;32melse\u001b[0m\u001b[0;34m:\u001b[0m\u001b[0;34m\u001b[0m\u001b[0m\n",
      "\u001b[0;31mKeyboardInterrupt\u001b[0m: "
     ]
    }
   ],
   "source": [
    "traj = {}\n",
    "start_time = time.time()\n",
    "argslist = [('/home/ramon/perdiu51/ariadna/',28),\n",
    "           ('/home/ramon/perdiu51/ariadna/',14),\n",
    "           ('/home/ramon/perdiu50/polyQ/',56),\n",
    "           ('/home/ramon/perdiu50/polyQ/',113)]\n",
    "with multiprocessing.pool.ThreadPool(processes=1) as pool:\n",
    "    results = pool.map_async(load_traj2, argslist)\n",
    "\n",
    "while results:\n",
    "    traj.update(results.get())\n",
    "end_time = time.time()\n",
    "print(\"Processes time=\", end_time - start_time)\n",
    "traj"
   ]
  },
  {
   "cell_type": "code",
   "execution_count": 6,
   "metadata": {},
   "outputs": [],
   "source": [
    "import concurrent.futures"
   ]
  },
  {
   "cell_type": "code",
   "execution_count": 38,
   "metadata": {},
   "outputs": [
    {
     "name": "stdout",
     "output_type": "stream",
     "text": [
      "PID: 31427, Process Name: MainProcess, Thread Name: ThreadPoolExecutor-9_0\n",
      "PID: 31427, Process Name: MainProcess, Thread Name: ThreadPoolExecutor-9_1\n",
      "PID: 31427, Process Name: MainProcess, Thread Name: ThreadPoolExecutor-9_2\n",
      "PID: 31427, Process Name: MainProcess, Thread Name: ThreadPoolExecutor-9_3\n",
      "Processes time= 183.9627230167389\n"
     ]
    },
    {
     "data": {
      "text/plain": [
       "{14: <mdtraj.Trajectory with 36 frames, 4368 atoms, 518 residues, and unitcells at 0x7f16300446a0>,\n",
       " 28: <mdtraj.Trajectory with 32 frames, 8731 atoms, 1036 residues, and unitcells at 0x7f16608707b8>,\n",
       " 56: <mdtraj.Trajectory with 185 frames, 17462 atoms, 2072 residues, and unitcells at 0x7f15e7a0ab38>,\n",
       " 113: <mdtraj.Trajectory with 203 frames, 35251 atoms, 4181 residues, and unitcells at 0x7f16a0ab9828>}"
      ]
     },
     "execution_count": 38,
     "metadata": {},
     "output_type": "execute_result"
    }
   ],
   "source": [
    "traj = {}\n",
    "start_time = time.time()\n",
    "argslist = [('/home/ramon/perdiu51/ariadna/',28),\n",
    "           ('/home/ramon/perdiu51/ariadna/',14),\n",
    "           ('/home/ramon/perdiu50/polyQ/',56),\n",
    "           ('/home/ramon/perdiu50/polyQ/',113)]\n",
    "with concurrent.futures.ThreadPoolExecutor(max_workers=4) as executor:\n",
    "    futures = {executor.submit(load_traj2, *val) for val in argslist}\n",
    "    #concurrent.futures.wait(futures)\n",
    "\n",
    "[traj.update(f.result()) for f in futures]\n",
    "end_time = time.time()\n",
    "print(\"Processes time=\", end_time - start_time)\n",
    "traj"
   ]
  },
  {
   "cell_type": "code",
   "execution_count": 39,
   "metadata": {},
   "outputs": [
    {
     "name": "stdout",
     "output_type": "stream",
     "text": [
      "PID: 31427, Process Name: MainProcess, Thread Name: ThreadPoolExecutor-10_0\n",
      "PID: 31427, Process Name: MainProcess, Thread Name: ThreadPoolExecutor-10_1\n",
      "PID: 31427, Process Name: MainProcess, Thread Name: ThreadPoolExecutor-10_2\n",
      "PID: 31427, Process Name: MainProcess, Thread Name: ThreadPoolExecutor-10_3\n",
      "Processes time= 179.27884244918823\n"
     ]
    },
    {
     "data": {
      "text/plain": [
       "{14: <mdtraj.Trajectory with 36 frames, 4368 atoms, 518 residues, and unitcells at 0x7f16453bc630>,\n",
       " 28: <mdtraj.Trajectory with 32 frames, 8731 atoms, 1036 residues, and unitcells at 0x7f166b76dcc0>,\n",
       " 56: <mdtraj.Trajectory with 185 frames, 17462 atoms, 2072 residues, and unitcells at 0x7f16468f05f8>,\n",
       " 113: <mdtraj.Trajectory with 203 frames, 35251 atoms, 4181 residues, and unitcells at 0x7f16468f0668>}"
      ]
     },
     "execution_count": 39,
     "metadata": {},
     "output_type": "execute_result"
    }
   ],
   "source": [
    "traj = {}\n",
    "start_time = time.time()\n",
    "argslist = [('/home/ramon/perdiu51/ariadna/',28),\n",
    "           ('/home/ramon/perdiu51/ariadna/',14),\n",
    "           ('/home/ramon/perdiu50/polyQ/',56),\n",
    "           ('/home/ramon/perdiu50/polyQ/',113)]\n",
    "with concurrent.futures.ThreadPoolExecutor(max_workers=4) as executor:\n",
    "    futures = {executor.submit(load_traj2, *val) for val in argslist}\n",
    "    concurrent.futures.wait(futures)\n",
    "\n",
    "[traj.update(f.result()) for f in futures]\n",
    "end_time = time.time()\n",
    "print(\"Processes time=\", end_time - start_time)\n",
    "traj"
   ]
  },
  {
   "cell_type": "code",
   "execution_count": 40,
   "metadata": {},
   "outputs": [
    {
     "name": "stdout",
     "output_type": "stream",
     "text": [
      "PID: 32360, Process Name: Process-5, Thread Name: MainThread\n",
      "PID: 32362, Process Name: Process-7, Thread Name: MainThread\n",
      "PID: 32361, Process Name: Process-6, Thread Name: MainThread\n",
      "PID: 32363, Process Name: Process-8, Thread Name: MainThread\n",
      "Processes time= 59.400649547576904\n"
     ]
    },
    {
     "data": {
      "text/plain": [
       "{14: <mdtraj.Trajectory with 36 frames, 4368 atoms, 518 residues, and unitcells at 0x7f1642d9ef28>,\n",
       " 28: <mdtraj.Trajectory with 32 frames, 8731 atoms, 1036 residues, and unitcells at 0x7f1607cfdd68>,\n",
       " 56: <mdtraj.Trajectory with 185 frames, 17462 atoms, 2072 residues, and unitcells at 0x7f15ebb659e8>,\n",
       " 113: <mdtraj.Trajectory with 203 frames, 35251 atoms, 4181 residues, and unitcells at 0x7f1607cfdf28>}"
      ]
     },
     "execution_count": 40,
     "metadata": {},
     "output_type": "execute_result"
    }
   ],
   "source": [
    "traj = {}\n",
    "start_time = time.time()\n",
    "argslist = [('/home/ramon/perdiu51/ariadna/',28),\n",
    "           ('/home/ramon/perdiu51/ariadna/',14),\n",
    "           ('/home/ramon/perdiu50/polyQ/',56),\n",
    "           ('/home/ramon/perdiu50/polyQ/',113)]\n",
    "with concurrent.futures.ProcessPoolExecutor(max_workers=4) as executor:\n",
    "    futures = {executor.submit(load_traj2, *val) for val in argslist}\n",
    "    #concurrent.futures.wait(futures)\n",
    "\n",
    "[traj.update(f.result()) for f in futures]\n",
    "end_time = time.time()\n",
    "print(\"Processes time=\", end_time - start_time)\n",
    "traj"
   ]
  },
  {
   "cell_type": "code",
   "execution_count": 41,
   "metadata": {},
   "outputs": [
    {
     "name": "stdout",
     "output_type": "stream",
     "text": [
      "PID: 32391, Process Name: Process-9, Thread Name: MainThread\n",
      "PID: 32394, Process Name: Process-12, Thread Name: MainThread\n",
      "PID: 32392, Process Name: Process-10, Thread Name: MainThread\n",
      "PID: 32393, Process Name: Process-11, Thread Name: MainThread\n",
      "Processes time= 61.89566206932068\n"
     ]
    },
    {
     "data": {
      "text/plain": [
       "{14: <mdtraj.Trajectory with 36 frames, 4368 atoms, 518 residues, and unitcells at 0x7f1609573b00>,\n",
       " 28: <mdtraj.Trajectory with 32 frames, 8731 atoms, 1036 residues, and unitcells at 0x7f1641dea4e0>,\n",
       " 56: <mdtraj.Trajectory with 185 frames, 17462 atoms, 2072 residues, and unitcells at 0x7f1667ead940>,\n",
       " 113: <mdtraj.Trajectory with 203 frames, 35251 atoms, 4181 residues, and unitcells at 0x7f1667eadc18>}"
      ]
     },
     "execution_count": 41,
     "metadata": {},
     "output_type": "execute_result"
    }
   ],
   "source": [
    "traj = {}\n",
    "start_time = time.time()\n",
    "argslist = [('/home/ramon/perdiu51/ariadna/',28),\n",
    "           ('/home/ramon/perdiu51/ariadna/',14),\n",
    "           ('/home/ramon/perdiu50/polyQ/',56),\n",
    "           ('/home/ramon/perdiu50/polyQ/',113)]\n",
    "with concurrent.futures.ProcessPoolExecutor(max_workers=4) as executor:\n",
    "    futures = {executor.submit(load_traj2, *val) for val in argslist}\n",
    "    concurrent.futures.wait(futures)\n",
    "\n",
    "[traj.update(f.result()) for f in futures]\n",
    "end_time = time.time()\n",
    "print(\"Processes time=\", end_time - start_time)\n",
    "traj"
   ]
  },
  {
   "cell_type": "code",
   "execution_count": 42,
   "metadata": {},
   "outputs": [
    {
     "data": {
      "text/plain": [
       "8"
      ]
     },
     "execution_count": 42,
     "metadata": {},
     "output_type": "execute_result"
    }
   ],
   "source": [
    "4+4"
   ]
  },
  {
   "cell_type": "code",
   "execution_count": null,
   "metadata": {},
   "outputs": [],
   "source": []
  }
 ],
 "metadata": {
  "kernelspec": {
   "display_name": "Python 3",
   "language": "python",
   "name": "python3"
  },
  "language_info": {
   "codemirror_mode": {
    "name": "ipython",
    "version": 3
   },
   "file_extension": ".py",
   "mimetype": "text/x-python",
   "name": "python",
   "nbconvert_exporter": "python",
   "pygments_lexer": "ipython3",
   "version": "3.6.3"
  }
 },
 "nbformat": 4,
 "nbformat_minor": 2
}
