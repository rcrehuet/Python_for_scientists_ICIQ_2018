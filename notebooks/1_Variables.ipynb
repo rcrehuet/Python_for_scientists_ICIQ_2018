{
 "cells": [
  {
   "cell_type": "markdown",
   "metadata": {},
   "source": [
    "# Introductory exercices: variables"
   ]
  },
  {
   "cell_type": "markdown",
   "metadata": {},
   "source": [
    "These are some basic exercices to get used to Python."
   ]
  },
  {
   "cell_type": "markdown",
   "metadata": {},
   "source": [
    "## Variables"
   ]
  },
  {
   "cell_type": "markdown",
   "metadata": {},
   "source": [
    "Declare and assign some variables:\n",
    "\n",
    "    a = 3\n",
    "    b = a + 3\n",
    "    c = a * 2.5\n",
    "\n",
    "Then check its type with `type(a)`. See what happens when you use an udeclared variable. What value does it take?"
   ]
  },
  {
   "cell_type": "code",
   "execution_count": null,
   "metadata": {
    "collapsed": true
   },
   "outputs": [],
   "source": []
  },
  {
   "cell_type": "markdown",
   "metadata": {},
   "source": [
    "Remember than lists and other mutable variables behave as pointers. Try to predict the result of this:\n",
    "\n",
    "    a = [1,2,3]\n",
    "    b = a\n",
    "    a.append(4)\n",
    "    print(a)\n",
    "    print(b)\n",
    "    "
   ]
  },
  {
   "cell_type": "code",
   "execution_count": null,
   "metadata": {
    "collapsed": false
   },
   "outputs": [],
   "source": []
  },
  {
   "cell_type": "markdown",
   "metadata": {},
   "source": [
    "Try to predict and understand what this does:\n",
    "\n",
    "    a=5; b=7\n",
    "    a, b = b, a\n",
    "    a,b,c = range(3)\n",
    "    a, b, c = range(5)\n",
    "    a, b, *c = range(5)\n"
   ]
  },
  {
   "cell_type": "code",
   "execution_count": null,
   "metadata": {
    "collapsed": false
   },
   "outputs": [],
   "source": []
  },
  {
   "cell_type": "markdown",
   "metadata": {},
   "source": [
    "Be quiet, relax and type: `import this` "
   ]
  },
  {
   "cell_type": "code",
   "execution_count": null,
   "metadata": {
    "collapsed": true
   },
   "outputs": [],
   "source": []
  },
  {
   "cell_type": "markdown",
   "metadata": {},
   "source": [
    "**Floating Point arithmetics**\n",
    "\n",
    "As scientists we should be specially aware of an advanced topic, floating point arithmetic. This is a general topic for all computer languages, but it is worth remembering it. Try to predict and understand the result of these line:\n",
    "    \n",
    "    50 * 1/50 == 1/50 * 50, 49 * 1/49 == 1/49 * 49"
   ]
  },
  {
   "cell_type": "code",
   "execution_count": 2,
   "metadata": {
    "collapsed": false
   },
   "outputs": [
    {
     "data": {
      "text/plain": [
       "(1.0, 1.0, 1.0, 0.9999999999999999)"
      ]
     },
     "execution_count": 2,
     "metadata": {},
     "output_type": "execute_result"
    }
   ],
   "source": [
    "50 * 1/50 , 1/50 * 50, 49 * 1/49 , 1/49 * 49"
   ]
  },
  {
   "cell_type": "code",
   "execution_count": 3,
   "metadata": {
    "collapsed": false
   },
   "outputs": [
    {
     "data": {
      "text/plain": [
       "False"
      ]
     },
     "execution_count": 3,
     "metadata": {},
     "output_type": "execute_result"
    }
   ],
   "source": [
    "49 * 1/49 == 1/49 * 49"
   ]
  },
  {
   "cell_type": "code",
   "execution_count": 6,
   "metadata": {},
   "outputs": [
    {
     "data": {
      "text/plain": [
       "2259567155457585972769764927204167917259184675196505491905493224749002869738303227794808863498522752161662875897626395653104598778534083252064488305382546215891760055078156662813740374800610159933125416575047788472456103482757783662657069782148095036420966433004819306655356486373583687144385055404946239241713795583456124145862303556095466354738338006044892493779984972282352678647954236894585122336952080180811348504415298176112467962993417437242769607666005461568866550156076975223618970240356727963193197988603744987676466825539470862748918877367637438623638495205276564241438954463264029246836347950135876348667066161343085367098141248558468745363655544663508515794545249303125401873264922935734835846254123654279063"
      ]
     },
     "execution_count": 6,
     "metadata": {},
     "output_type": "execute_result"
    }
   ],
   "source": [
    "23**23**2"
   ]
  },
  {
   "cell_type": "markdown",
   "metadata": {},
   "source": [
    "If you really need to work with exact arithmetic, Python offers a couple of solutions, that we will not explore further here. Try this:"
   ]
  },
  {
   "cell_type": "code",
   "execution_count": null,
   "metadata": {
    "collapsed": true
   },
   "outputs": [],
   "source": [
    "import fractions\n",
    "50*fractions.Fraction(1,50) == 49*fractions.Fraction(1,49)"
   ]
  },
  {
   "cell_type": "markdown",
   "metadata": {},
   "source": [
    "A similar problem is occurs here. What do you expect this to return?"
   ]
  },
  {
   "cell_type": "code",
   "execution_count": null,
   "metadata": {
    "collapsed": false
   },
   "outputs": [],
   "source": []
  },
  {
   "cell_type": "markdown",
   "metadata": {},
   "source": [
    "Now correct the previous input using the fractions module. You could also use the decimals module, this way:"
   ]
  },
  {
   "cell_type": "code",
   "execution_count": null,
   "metadata": {
    "collapsed": false
   },
   "outputs": [],
   "source": [
    "import decimal\n",
    "num = decimal.Decimal('1.2')\n",
    "int((num-1)*10)"
   ]
  },
  {
   "cell_type": "markdown",
   "metadata": {},
   "source": [
    "This is mainly to show that there are modules for almost everything. The fractions and decimal modules are not part of this course, just an anecdote."
   ]
  },
  {
   "cell_type": "code",
   "execution_count": null,
   "metadata": {
    "collapsed": true
   },
   "outputs": [],
   "source": []
  }
 ],
 "metadata": {
  "kernelspec": {
   "display_name": "Python 3",
   "language": "python",
   "name": "python3"
  },
  "language_info": {
   "codemirror_mode": {
    "name": "ipython",
    "version": 3
   },
   "file_extension": ".py",
   "mimetype": "text/x-python",
   "name": "python",
   "nbconvert_exporter": "python",
   "pygments_lexer": "ipython3",
   "version": "3.4.5"
  }
 },
 "nbformat": 4,
 "nbformat_minor": 2
}
