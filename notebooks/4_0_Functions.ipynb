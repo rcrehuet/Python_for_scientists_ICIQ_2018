{
 "cells": [
  {
   "cell_type": "markdown",
   "metadata": {},
   "source": [
    "# Introductory exercices: Functions"
   ]
  },
  {
   "cell_type": "markdown",
   "metadata": {},
   "source": [
    "###Heaviside function\n",
    "\n",
    "Write a function that returns the [Heaviside function](http://en.wikipedia.org/wiki/Heaviside_step_function)."
   ]
  },
  {
   "cell_type": "code",
   "execution_count": null,
   "metadata": {
    "collapsed": false
   },
   "outputs": [],
   "source": [
    "def heaviside(x):\n",
    "    #finish\n",
    "\n",
    "#check it\n",
    "print(heaviside(-5.4), heaviside(7), heaviside(0))"
   ]
  },
  {
   "cell_type": "markdown",
   "metadata": {},
   "source": [
    "###Prod\n",
    "\n",
    "Python has a function `sum` that sums the elements of a list. Write a function that calculates the product of all the elements of a list."
   ]
  },
  {
   "cell_type": "code",
   "execution_count": null,
   "metadata": {
    "collapsed": false
   },
   "outputs": [],
   "source": [
    "def prod(x):\n",
    "    \"\"\"\n",
    "    sum(iterable) -> value\n",
    "    \"\"\"\n",
    "    #Finish\n",
    "\n",
    "#Test it\n",
    "prod([1,2,3])"
   ]
  },
  {
   "cell_type": "markdown",
   "metadata": {},
   "source": [
    "Sum has an optional argument. Implement the same optional argument in your function."
   ]
  },
  {
   "cell_type": "code",
   "execution_count": null,
   "metadata": {
    "collapsed": false
   },
   "outputs": [],
   "source": [
    "def prod(x, start = 1):\n",
    "    \"\"\"\n",
    "    sum(iterable[, start]) -> value\n",
    "    \n",
    "    Return the product of an iterable of numbers (NOT strings) times the value\n",
    "    of parameter 'start' (which defaults to 1).  When the iterable is\n",
    "    empty, return start.\n",
    "    \"\"\"\n",
    "    # Finish\n",
    "\n",
    "prod([1,2,3], 10)"
   ]
  },
  {
   "cell_type": "markdown",
   "metadata": {},
   "source": [
    "### Sum of lists\n",
    "If you have 2 lists, `a` and `b`, `a+b` does not add the elements of the list. Write a function that does that. There is already a python function called `sum`. Try what happens if you call your function `sum`. \n",
    "The `zip` function can be helpful. Try `zip([1,2,3], [4,5,6])`."
   ]
  },
  {
   "cell_type": "code",
   "execution_count": null,
   "metadata": {
    "collapsed": false
   },
   "outputs": [],
   "source": [
    "def lists_sum(a,b):\n",
    "    #Finish\n",
    "\n",
    "lists_sum([4,3,2], [4,1,3])"
   ]
  },
  {
   "cell_type": "markdown",
   "metadata": {},
   "source": [
    "###Prime numbers\n",
    "\n",
    "Write a module that implements a function that returns all the prime numbers up to a limit. (Use the [Sieve of Erastothenes method](http://en.wikipedia.org/wiki/Sieve_of_Eratosthenes))"
   ]
  },
  {
   "cell_type": "code",
   "execution_count": null,
   "metadata": {
    "collapsed": true
   },
   "outputs": [],
   "source": [
    "def primes_sieve_list(limit):\n",
    "    #Do it...\n",
    "\n",
    "\n",
    "# see also http://rosettacode.org/wiki/Sieve_of_Eratosthenes#Python"
   ]
  },
  {
   "cell_type": "markdown",
   "metadata": {},
   "source": [
    "###Optional and default arguments\n",
    "\n",
    "Imagine a function to submit jobs to a queue. Here you see its first lines.\n"
   ]
  },
  {
   "cell_type": "code",
   "execution_count": null,
   "metadata": {
    "collapsed": false
   },
   "outputs": [],
   "source": [
    "def submit(job, priority=10, nprocs=1):\n",
    "    print(\"Job {} submitted with priority {} and {} processors.\".format(job, priority, nprocs))\n",
    "    # And here you would do the actual submission..."
   ]
  },
  {
   "cell_type": "markdown",
   "metadata": {},
   "source": [
    "Try to predict and understand the output of these calls to the function:"
   ]
  },
  {
   "cell_type": "code",
   "execution_count": null,
   "metadata": {
    "collapsed": true
   },
   "outputs": [],
   "source": [
    "submit()\n",
    "submit('job1')\n",
    "submit('job1', nprocs=5)\n",
    "submit('job1', 5)\n",
    "submit('job1', 5, nprocs=2)\n",
    "submit('job1', 5, priority=5)"
   ]
  },
  {
   "cell_type": "markdown",
   "metadata": {},
   "source": [
    "The follwing function uses *argument unpacking*. This is a powerful technique."
   ]
  },
  {
   "cell_type": "code",
   "execution_count": null,
   "metadata": {
    "collapsed": true
   },
   "outputs": [],
   "source": [
    "def print_args(*args, **kwargs):\n",
    "    for i, arg in enumerate(args):\n",
    "        print('positional argument {} = {}'.format(i,arg))\n",
    "    for key in kwargs:\n",
    "        print('keyword argument {} = {}'.format(key, kwargs[key])"
   ]
  },
  {
   "cell_type": "markdown",
   "metadata": {},
   "source": [
    "Call this function with different arguments and understand its output:\n",
    "\n",
    "    print_args(), print_args(5,6,5), print_args([5,4]), print_args(time = 0.0), print_args('a', b', c='c'), print_args(c = 'c', 'a', 'b'),print_args('a', c = 'c', 'b'), etc.\n",
    "    \n",
    "We have not covered all the possibilities of function arguments. Check the documentation for things link forcing the use of only keyword arguments."
   ]
  },
  {
   "cell_type": "code",
   "execution_count": null,
   "metadata": {
    "collapsed": true
   },
   "outputs": [],
   "source": []
  },
  {
   "cell_type": "markdown",
   "metadata": {},
   "source": [
    "## Tricky default arguments"
   ]
  },
  {
   "cell_type": "markdown",
   "metadata": {},
   "source": [
    "The use of default mutable arguments is a source of confusion for novice Python users. Imagine you need to write a function that has an optional argument, which is a list. This function appends something to that list, or creates it if called without arguments. A naive approach would be:"
   ]
  },
  {
   "cell_type": "code",
   "execution_count": null,
   "metadata": {
    "collapsed": true
   },
   "outputs": [],
   "source": [
    "def f(data=[]):\n",
    "    data.append(1)\n",
    "    return data"
   ]
  },
  {
   "cell_type": "markdown",
   "metadata": {},
   "source": [
    "Call it *several times* (with a without arguments) and see what happens. Execute it in [Pythontutor](http://www.pythontutor.com/visualize.html#mode=edit) and see if you can understand better the behaviour.\n",
    "This [blog entry](http://effbot.org/zone/default-values.htm) gives a further explanation. The main idea is that the `def` statement is executed when the function is defined:"
   ]
  },
  {
   "cell_type": "code",
   "execution_count": null,
   "metadata": {
    "collapsed": false
   },
   "outputs": [],
   "source": [
    "def f(x):\n",
    "    print(\"In f(x), x =\",x)\n",
    "    return x*2\n",
    "\n",
    "def g(x=f(3)):\n",
    "    print(\"In g(x), x =\",x)\n",
    "    return None"
   ]
  },
  {
   "cell_type": "code",
   "execution_count": null,
   "metadata": {
    "collapsed": false
   },
   "outputs": [],
   "source": [
    "g()"
   ]
  },
  {
   "cell_type": "markdown",
   "metadata": {},
   "source": [
    "Now you should be able to predict the result of this cell (example from [here](http://stackoverflow.com/questions/1132941/least-astonishment-in-python-the-mutable-default-argument)):"
   ]
  },
  {
   "cell_type": "code",
   "execution_count": null,
   "metadata": {
    "collapsed": false
   },
   "outputs": [],
   "source": [
    "fruits = (\"apples\", \"bananas\", \"loganberries\")\n",
    "def eat(food=fruits):\n",
    "    print(food)\n",
    "\n",
    "eat()\n",
    "fruits = (\"blueberries\", \"mangos\")\n",
    "eat()"
   ]
  },
  {
   "cell_type": "markdown",
   "metadata": {},
   "source": [
    "But how is this solved? How to create an empty list of dictionary as a default argument. Here is a way to do it:"
   ]
  },
  {
   "cell_type": "code",
   "execution_count": null,
   "metadata": {
    "collapsed": true
   },
   "outputs": [],
   "source": [
    "def f(data=None):\n",
    "    if data is None:\n",
    "        data = []\n",
    "    data.append(1)\n",
    "    return data"
   ]
  }
 ],
 "metadata": {
  "kernelspec": {
   "display_name": "Python 3",
   "language": "python",
   "name": "python3"
  },
  "language_info": {
   "codemirror_mode": {
    "name": "ipython",
    "version": 3
   },
   "file_extension": ".py",
   "mimetype": "text/x-python",
   "name": "python",
   "nbconvert_exporter": "python",
   "pygments_lexer": "ipython3",
   "version": "3.5.2"
  }
 },
 "nbformat": 4,
 "nbformat_minor": 0
}
